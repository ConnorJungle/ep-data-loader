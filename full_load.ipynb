{
 "cells": [
  {
   "cell_type": "code",
   "execution_count": 6,
   "metadata": {},
   "outputs": [],
   "source": [
    "from ep_data_loader import ep_data_loader\n",
    "\n",
    "ep = ep_data_loader.Scraper(start_year=2022, end_year=2022, prod_db=True)"
   ]
  },
  {
   "cell_type": "code",
   "execution_count": 7,
   "metadata": {},
   "outputs": [
    {
     "name": "stdout",
     "output_type": "stream",
     "text": [
      "\n",
      "--- Getting League Team Stats for CCHL2 2022-2023 --- \n",
      "\n",
      "--- Getting Team Player Stats for alexandria-glens 6623 ---\n",
      "--- Getting Team Player Stats for arnprior-packers 6848 ---\n",
      "--- Getting Team Player Stats for athens-aeros 3518 ---\n",
      "--- Getting Team Player Stats for brockville-tikis 5683 ---\n",
      "--- Getting Team Player Stats for carleton-place-jr.-canadians 24541 ---\n",
      "--- Getting Team Player Stats for casselman-vikings 6354 ---\n",
      "--- Getting Team Player Stats for char-lan-rebels 6851 ---\n",
      "--- Getting Team Player Stats for embrun-panthers 9755 ---\n",
      "--- Getting Team Player Stats for ottawa-jr.-canadians 7155 ---\n",
      "--- Getting Team Player Stats for ottawa-west-golden-knights 6850 ---\n",
      "--- Getting Team Player Stats for perth-blue-wings 6846 ---\n",
      "--- Getting Team Player Stats for richmond-royals 6849 ---\n",
      "--- Getting Team Player Stats for smiths-jr.-falls-bears 36429 ---\n",
      "--- Getting Team Player Stats for valley-timberwolves 6434 ---\n",
      "--- Getting Team Player Stats for whitewater-kings 24543 ---\n",
      "--- Getting Team Player Stats for winchester-hawks 5867 ---\n",
      "\n",
      "--- Getting League Team Stats for NHL 2022-2023 --- \n",
      "\n",
      "--- Getting Team Player Stats for anaheim-ducks 1580 ---\n",
      "--- Getting Team Player Stats for arizona-coyotes 72 ---\n",
      "--- Getting Team Player Stats for boston-bruins 52 ---\n",
      "--- Getting Team Player Stats for buffalo-sabres 53 ---\n",
      "--- Getting Team Player Stats for calgary-flames 54 ---\n",
      "--- Getting Team Player Stats for carolina-hurricanes 55 ---\n",
      "--- Getting Team Player Stats for chicago-blackhawks 56 ---\n",
      "--- Getting Team Player Stats for colorado-avalanche 57 ---\n",
      "--- Getting Team Player Stats for columbus-blue-jackets 58 ---\n",
      "--- Getting Team Player Stats for dallas-stars 59 ---\n",
      "--- Getting Team Player Stats for detroit-red-wings 60 ---\n",
      "--- Getting Team Player Stats for edmonton-oilers 61 ---\n",
      "--- Getting Team Player Stats for florida-panthers 62 ---\n",
      "--- Getting Team Player Stats for los-angeles-kings 79 ---\n",
      "--- Getting Team Player Stats for minnesota-wild 63 ---\n",
      "--- Getting Team Player Stats for montreal-canadiens 64 ---\n",
      "--- Getting Team Player Stats for nashville-predators 65 ---\n",
      "--- Getting Team Player Stats for new-jersey-devils 66 ---\n",
      "--- Getting Team Player Stats for new-york-islanders 67 ---\n",
      "--- Getting Team Player Stats for new-york-rangers 68 ---\n",
      "--- Getting Team Player Stats for ottawa-senators 69 ---\n",
      "--- Getting Team Player Stats for philadelphia-flyers 70 ---\n",
      "--- Getting Team Player Stats for pittsburgh-penguins 71 ---\n",
      "--- Getting Team Player Stats for san-jose-sharks 73 ---\n",
      "--- Getting Team Player Stats for seattle-kraken 27336 ---\n",
      "--- Getting Team Player Stats for st.-louis-blues 74 ---\n",
      "--- Getting Team Player Stats for tampa-bay-lightning 75 ---\n",
      "--- Getting Team Player Stats for toronto-maple-leafs 76 ---\n",
      "--- Getting Team Player Stats for vancouver-canucks 77 ---\n",
      "--- Getting Team Player Stats for vegas-golden-knights 22211 ---\n",
      "--- Getting Team Player Stats for washington-capitals 78 ---\n",
      "--- Getting Team Player Stats for winnipeg-jets 9966 ---\n",
      "\n",
      "--- Getting League Team Stats for NLA 2022-2023 --- \n",
      "\n",
      "--- Getting Team Player Stats for ehc-biel-bienne 918 ---\n",
      "--- Getting Team Player Stats for ehc-kloten 112 ---\n",
      "--- Getting Team Player Stats for ev-zug 117 ---\n",
      "--- Getting Team Player Stats for geneve-servette-hc 260 ---\n",
      "--- Getting Team Player Stats for hc-ajoie 257 ---\n",
      "--- Getting Team Player Stats for hc-ambri-piotta 107 ---\n",
      "--- Getting Team Player Stats for hc-davos 110 ---\n",
      "--- Getting Team Player Stats for hc-fribourg-gotteron 111 ---\n",
      "--- Getting Team Player Stats for hc-lugano 115 ---\n",
      "--- Getting Team Player Stats for lausanne-hc 114 ---\n",
      "--- Getting Team Player Stats for sc-bern 108 ---\n",
      "--- Getting Team Player Stats for sc-rapperswil-jona-lakers 116 ---\n",
      "--- Getting Team Player Stats for scl-tigers 608 ---\n",
      "--- Getting Team Player Stats for zsc-lions 118 ---\n",
      "\n",
      "--- Getting League Team Stats for USHL 2022-2023 --- \n",
      "\n",
      "--- Getting Team Player Stats for cedar-rapids-roughriders 783 ---\n",
      "--- Getting Team Player Stats for chicago-steel 898 ---\n",
      "--- Getting Team Player Stats for des-moines-buccaneers 900 ---\n",
      "--- Getting Team Player Stats for dubuque-fighting-saints 1158 ---\n",
      "--- Getting Team Player Stats for fargo-force 1186 ---\n",
      "--- Getting Team Player Stats for green-bay-gamblers 901 ---\n",
      "--- Getting Team Player Stats for lincoln-stars 844 ---\n",
      "--- Getting Team Player Stats for madison-capitols 15749 ---\n",
      "--- Getting Team Player Stats for muskegon-lumberjacks 535 ---\n",
      "--- Getting Team Player Stats for omaha-lancers 954 ---\n",
      "--- Getting Team Player Stats for sioux-city-musketeers 903 ---\n",
      "--- Getting Team Player Stats for sioux-falls-stampede 904 ---\n",
      "--- Getting Team Player Stats for tri-city-storm 2710 ---\n",
      "--- Getting Team Player Stats for usntdp-juniors 5156 ---\n",
      "--- Getting Team Player Stats for waterloo-black-hawks 907 ---\n",
      "--- Getting Team Player Stats for youngstown-phantoms 2628 ---\n",
      "\n",
      "--- Getting League Team Stats for BCHL 2022-2023 --- \n",
      "\n",
      "--- Getting Team Player Stats for alberni-valley-bulldogs 2275 ---\n",
      "--- Getting Team Player Stats for chilliwack-chiefs 1377 ---\n",
      "--- Getting Team Player Stats for coquitlam-express 2012 ---\n",
      "--- Getting Team Player Stats for cowichan-valley-capitals 2095 ---\n",
      "--- Getting Team Player Stats for cranbrook-bucks 29511 ---\n",
      "--- Getting Team Player Stats for langley-rivermen 9778 ---\n",
      "--- Getting Team Player Stats for merritt-centennials 2079 ---\n",
      "--- Getting Team Player Stats for nanaimo-clippers 2076 ---\n",
      "--- Getting Team Player Stats for penticton-vees 2177 ---\n",
      "--- Getting Team Player Stats for powell-river-kings 2070 ---\n",
      "--- Getting Team Player Stats for prince-george-spruce-kings 2125 ---\n",
      "--- Getting Team Player Stats for salmon-arm-silverbacks 2056 ---\n",
      "--- Getting Team Player Stats for surrey-eagles 3407 ---\n",
      "--- Getting Team Player Stats for trail-smoke-eaters 1813 ---\n",
      "--- Getting Team Player Stats for vernon-vipers 2073 ---\n",
      "--- Getting Team Player Stats for victoria-grizzlies 2096 ---\n",
      "--- Getting Team Player Stats for wenatchee-wild 11170 ---\n",
      "--- Getting Team Player Stats for west-kelowna-warriors 2699 ---\n",
      "\n",
      "--- Getting League Team Stats for SJHL 2022-2023 --- \n",
      "\n",
      "--- Getting Team Player Stats for battlefords-north-stars 2102 ---\n",
      "--- Getting Team Player Stats for estevan-bruins 2117 ---\n",
      "--- Getting Team Player Stats for flin-flon-bombers 3042 ---\n",
      "--- Getting Team Player Stats for humboldt-broncos 3160 ---\n",
      "--- Getting Team Player Stats for kindersley-klippers 2104 ---\n",
      "--- Getting Team Player Stats for la-ronge-ice-wolves 2791 ---\n",
      "--- Getting Team Player Stats for melfort-mustangs 1846 ---\n",
      "--- Getting Team Player Stats for melville-millionaires 1857 ---\n",
      "--- Getting Team Player Stats for nipawin-hawks 2217 ---\n",
      "--- Getting Team Player Stats for notre-dame-hounds 1880 ---\n",
      "--- Getting Team Player Stats for weyburn-red-wings 2168 ---\n",
      "--- Getting Team Player Stats for yorkton-terriers 1918 ---\n",
      "\n",
      "--- Getting League Team Stats for AHL 2022-2023 --- \n",
      "\n",
      "--- Getting Team Player Stats for abbotsford-canucks 3375 ---\n",
      "--- Getting Team Player Stats for bakersfield-condors 724 ---\n",
      "--- Getting Team Player Stats for belleville-senators 22780 ---\n",
      "--- Getting Team Player Stats for bridgeport-islanders 81 ---\n",
      "--- Getting Team Player Stats for calgary-wranglers 35900 ---\n",
      "--- Getting Team Player Stats for charlotte-checkers 234 ---\n",
      "--- Getting Team Player Stats for chicago-wolves 94 ---\n",
      "--- Getting Team Player Stats for cleveland-monsters 2243 ---\n",
      "--- Getting Team Player Stats for coachella-valley-firebirds 30818 ---\n",
      "--- Getting Team Player Stats for colorado-eagles 894 ---\n",
      "--- Getting Team Player Stats for grand-rapids-griffins 97 ---\n",
      "--- Getting Team Player Stats for hartford-wolf-pack 83 ---\n",
      "--- Getting Team Player Stats for henderson-silver-knights 30779 ---\n",
      "--- Getting Team Player Stats for hershey-bears 98 ---\n",
      "--- Getting Team Player Stats for iowa-wild 14907 ---\n",
      "--- Getting Team Player Stats for laval-rocket 22280 ---\n",
      "--- Getting Team Player Stats for lehigh-valley-phantoms 17333 ---\n",
      "--- Getting Team Player Stats for manitoba-moose 86 ---\n",
      "--- Getting Team Player Stats for milwaukee-admirals 100 ---\n",
      "--- Getting Team Player Stats for ontario-reign 2694 ---\n",
      "--- Getting Team Player Stats for providence-bruins 88 ---\n",
      "--- Getting Team Player Stats for rochester-americans 103 ---\n"
     ]
    },
    {
     "name": "stdout",
     "output_type": "stream",
     "text": [
      "--- Getting Team Player Stats for rockford-icehogs 825 ---\n",
      "--- Getting Team Player Stats for san-diego-gulls 8516 ---\n",
      "--- Getting Team Player Stats for san-jose-barracuda 18741 ---\n",
      "--- Getting Team Player Stats for springfield-thunderbirds 3965 ---\n",
      "--- Getting Team Player Stats for syracuse-crunch 104 ---\n",
      "--- Getting Team Player Stats for texas-stars 4516 ---\n",
      "--- Getting Team Player Stats for toronto-marlies 1336 ---\n",
      "--- Getting Team Player Stats for tucson-roadrunners 21888 ---\n",
      "--- Getting Team Player Stats for utica-comets 15223 ---\n",
      "--- Getting Team Player Stats for wilkes-barre-scranton-penguins 106 ---\n",
      "\n",
      "--- Getting League Team Stats for SuperElit 2022-2023 --- \n",
      "\n",
      "--- Getting Team Player Stats for aik-j20 453 ---\n",
      "--- Getting Team Player Stats for almtuna-is-j20 1305 ---\n",
      "--- Getting Team Player Stats for brynas-if-j20 455 ---\n",
      "--- Getting Team Player Stats for djurgardens-if-j20 599 ---\n",
      "--- Getting Team Player Stats for frolunda-hc-j20 468 ---\n",
      "--- Getting Team Player Stats for farjestad-bk-j20 456 ---\n",
      "--- Getting Team Player Stats for hv71-j20 459 ---\n",
      "--- Getting Team Player Stats for ik-oskarshamn-j20 1847 ---\n",
      "--- Getting Team Player Stats for leksands-if-j20 460 ---\n",
      "--- Getting Team Player Stats for linkoping-hc-j20 470 ---\n",
      "--- Getting Team Player Stats for lulea-hf-j20 461 ---\n",
      "--- Getting Team Player Stats for malmo-redhawks-j20 462 ---\n",
      "--- Getting Team Player Stats for modo-hockey-j20 463 ---\n",
      "--- Getting Team Player Stats for mora-ik-j20 464 ---\n",
      "--- Getting Team Player Stats for rogle-bk-j20 465 ---\n",
      "--- Getting Team Player Stats for skelleftea-aik-j20 671 ---\n",
      "--- Getting Team Player Stats for sodertalje-sk-j20 466 ---\n",
      "--- Getting Team Player Stats for timra-ik-j20 467 ---\n",
      "--- Getting Team Player Stats for vasteras-ik-j20 469 ---\n",
      "--- Getting Team Player Stats for vaxjo-lakers-hc-j20 1369 ---\n",
      "--- Getting Team Player Stats for orebro-hk-j20 955 ---\n",
      "\n",
      "--- Getting League Team Stats for WHL 2022-2023 --- \n",
      "\n",
      "--- Getting Team Player Stats for brandon-wheat-kings 857 ---\n",
      "--- Getting Team Player Stats for calgary-hitmen 576 ---\n",
      "--- Getting Team Player Stats for edmonton-oil-kings 1783 ---\n",
      "--- Getting Team Player Stats for everett-silvertips 1537 ---\n",
      "--- Getting Team Player Stats for kamloops-blazers 725 ---\n",
      "--- Getting Team Player Stats for kelowna-rockets 451 ---\n",
      "--- Getting Team Player Stats for lethbridge-hurricanes 793 ---\n",
      "--- Getting Team Player Stats for medicine-hat-tigers 859 ---\n",
      "--- Getting Team Player Stats for moose-jaw-warriors 672 ---\n",
      "--- Getting Team Player Stats for portland-winterhawks 749 ---\n",
      "--- Getting Team Player Stats for prince-albert-raiders 687 ---\n",
      "--- Getting Team Player Stats for prince-george-cougars 860 ---\n",
      "--- Getting Team Player Stats for red-deer-rebels 861 ---\n",
      "--- Getting Team Player Stats for regina-pats 862 ---\n",
      "--- Getting Team Player Stats for saskatoon-blades 686 ---\n",
      "--- Getting Team Player Stats for seattle-thunderbirds 863 ---\n",
      "--- Getting Team Player Stats for spokane-chiefs 688 ---\n",
      "--- Getting Team Player Stats for swift-current-broncos 847 ---\n",
      "--- Getting Team Player Stats for tri-city-americans 846 ---\n",
      "--- Getting Team Player Stats for vancouver-giants 864 ---\n",
      "--- Getting Team Player Stats for victoria-royals 9780 ---\n",
      "--- Getting Team Player Stats for winnipeg-ice 858 ---\n",
      "\n",
      "--- Getting League Team Stats for CCHL 2022-2023 --- \n",
      "\n",
      "--- Getting Team Player Stats for brockville-braves 3248 ---\n",
      "--- Getting Team Player Stats for carleton-place-canadians 6298 ---\n",
      "--- Getting Team Player Stats for cornwall-colts 3404 ---\n",
      "--- Getting Team Player Stats for hawkesbury-hawks 3424 ---\n",
      "--- Getting Team Player Stats for kemptville-73-s 4349 ---\n",
      "--- Getting Team Player Stats for navan-grads 3690 ---\n",
      "--- Getting Team Player Stats for nepean-raiders 3693 ---\n",
      "--- Getting Team Player Stats for ottawa-jr.-senators 3190 ---\n",
      "--- Getting Team Player Stats for pembroke-lumber-kings 2161 ---\n",
      "--- Getting Team Player Stats for renfrew-wolves 16816 ---\n",
      "--- Getting Team Player Stats for rockland-nationals 4350 ---\n",
      "--- Getting Team Player Stats for smiths-falls-bears 2740 ---\n",
      "\n",
      "--- Getting League Team Stats for U20 SM-liiga 2022-2023 --- \n",
      "\n",
      "--- Getting Team Player Stats for hifk-u20 2425 ---\n",
      "--- Getting Team Player Stats for hpk-u20 2468 ---\n",
      "--- Getting Team Player Stats for hokki-u20 2944 ---\n",
      "--- Getting Team Player Stats for ilves-u20 2473 ---\n",
      "--- Getting Team Player Stats for jyp-u20 2190 ---\n",
      "--- Getting Team Player Stats for jokerit-u20 2484 ---\n",
      "--- Getting Team Player Stats for jukurit-u20 2965 ---\n",
      "--- Getting Team Player Stats for koovee-u20 2606 ---\n",
      "--- Getting Team Player Stats for kalpa-u20 2010 ---\n",
      "--- Getting Team Player Stats for karhu-kissat-u20 2642 ---\n",
      "--- Getting Team Player Stats for kettera-u20 5138 ---\n",
      "--- Getting Team Player Stats for kiekko-espoo-u20 1753 ---\n",
      "--- Getting Team Player Stats for kiekko-espoo-u20-ch 5816 ---\n",
      "--- Getting Team Player Stats for kiekko-vantaa-u20 2969 ---\n",
      "--- Getting Team Player Stats for kookoo-u20 2650 ---\n",
      "--- Getting Team Player Stats for karpat-u20 2195 ---\n",
      "--- Getting Team Player Stats for lukko-u20 1980 ---\n",
      "--- Getting Team Player Stats for pelicans-u20 2183 ---\n",
      "--- Getting Team Player Stats for roki-u20 11065 ---\n",
      "--- Getting Team Player Stats for sapko-u20 2629 ---\n",
      "--- Getting Team Player Stats for saipa-u20 2189 ---\n",
      "--- Getting Team Player Stats for sport-u20 2634 ---\n",
      "--- Getting Team Player Stats for tps-u20 1906 ---\n",
      "--- Getting Team Player Stats for tuto-hockey-u20 2031 ---\n",
      "--- Getting Team Player Stats for tappara-u20 1754 ---\n",
      "--- Getting Team Player Stats for assat-u20 2477 ---\n",
      "\n",
      "--- Getting League Team Stats for OHL 2022-2023 --- \n",
      "\n",
      "--- Getting Team Player Stats for barrie-colts 865 ---\n",
      "--- Getting Team Player Stats for erie-otters 868 ---\n",
      "--- Getting Team Player Stats for flint-firebirds 18638 ---\n",
      "--- Getting Team Player Stats for guelph-storm 552 ---\n",
      "--- Getting Team Player Stats for hamilton-bulldogs 18616 ---\n",
      "--- Getting Team Player Stats for kingston-frontenacs 869 ---\n",
      "--- Getting Team Player Stats for kitchener-rangers 870 ---\n",
      "--- Getting Team Player Stats for london-knights 206 ---\n",
      "--- Getting Team Player Stats for mississauga-steelheads 12595 ---\n",
      "--- Getting Team Player Stats for niagara-icedogs 2231 ---\n",
      "--- Getting Team Player Stats for north-bay-battalion 14839 ---\n",
      "--- Getting Team Player Stats for oshawa-generals 873 ---\n",
      "--- Getting Team Player Stats for ottawa-67-s 702 ---\n",
      "--- Getting Team Player Stats for owen-sound-attack 874 ---\n",
      "--- Getting Team Player Stats for peterborough-petes 875 ---\n",
      "--- Getting Team Player Stats for saginaw-spirit 877 ---\n",
      "--- Getting Team Player Stats for sarnia-sting 878 ---\n",
      "--- Getting Team Player Stats for soo-greyhounds 620 ---\n",
      "--- Getting Team Player Stats for sudbury-wolves 551 ---\n",
      "--- Getting Team Player Stats for windsor-spitfires 879 ---\n",
      "\n",
      "--- Getting League Team Stats for MHL 2022-2023 --- \n",
      "\n",
      "--- Getting Team Player Stats for akm-tula 26578 ---\n",
      "--- Getting Team Player Stats for akm-junior-tula-region 34155 ---\n",
      "--- Getting Team Player Stats for almaz-cherepovets 4926 ---\n",
      "--- Getting Team Player Stats for amurskie-tigry-khabarovsk 8444 ---\n",
      "--- Getting Team Player Stats for avto-yekaterinburg 4918 ---\n",
      "--- Getting Team Player Stats for belye-medvedi-chelyabinsk 4910 ---\n",
      "--- Getting Team Player Stats for chaika-nizhny-novgorod 4923 ---\n",
      "--- Getting Team Player Stats for dinamo-shinnik-bobruysk 10122 ---\n",
      "--- Getting Team Player Stats for irbis-kazan 10228 ---\n",
      "--- Getting Team Player Stats for kapitan-stupino 1899 ---\n",
      "--- Getting Team Player Stats for krasnaya-armiya-moskva 4920 ---\n",
      "--- Getting Team Player Stats for krasnoyarskie-rysi 10313 ---\n",
      "--- Getting Team Player Stats for kuznetskie-medvedi 4914 ---\n",
      "--- Getting Team Player Stats for ladia-togliatti 4916 ---\n",
      "--- Getting Team Player Stats for loko-yaroslavl 4927 ---\n",
      "--- Getting Team Player Stats for loko-76-yaroslavl 15633 ---\n",
      "--- Getting Team Player Stats for mhk-atlant-mytishchi 4929 ---\n",
      "--- Getting Team Player Stats for mhk-dynamo-moskva 4909 ---\n",
      "--- Getting Team Player Stats for mhk-dynamo-st.-petersburg 15608 ---\n",
      "--- Getting Team Player Stats for mhk-krylia-sovetov-moskva 4535 ---\n",
      "--- Getting Team Player Stats for mhk-molot-perm 28575 ---\n",
      "--- Getting Team Player Stats for mhk-spartak-moskva 4924 ---\n"
     ]
    },
    {
     "name": "stdout",
     "output_type": "stream",
     "text": [
      "--- Getting Team Player Stats for mamonty-yugry 10064 ---\n",
      "--- Getting Team Player Stats for omskie-yastreby 4919 ---\n",
      "--- Getting Team Player Stats for reaktor-nizhnekamsk 4913 ---\n",
      "--- Getting Team Player Stats for russkie-vityazi 4928 ---\n",
      "--- Getting Team Player Stats for ska-1946-st.-petersburg 4925 ---\n",
      "--- Getting Team Player Stats for ska-kareliya-kondopoga 28640 ---\n",
      "--- Getting Team Player Stats for ska-varyagi-st.-petersburg 17611 ---\n",
      "--- Getting Team Player Stats for sakhalinskiye-akuly 17424 ---\n",
      "--- Getting Team Player Stats for sarmaty-orenburg 18911 ---\n",
      "--- Getting Team Player Stats for sibirskie-snaipery-novosibirsk 4911 ---\n",
      "--- Getting Team Player Stats for sputnik-almetievsk 11126 ---\n",
      "--- Getting Team Player Stats for stalnye-lisy-magnitogorsk 4915 ---\n",
      "--- Getting Team Player Stats for taifun-primorsky-krai 22320 ---\n",
      "--- Getting Team Player Stats for tolpar-ufa 4912 ---\n",
      "--- Getting Team Player Stats for tyumenski-legion 12884 ---\n",
      "\n",
      "--- Getting League Team Stats for SHL 2022-2023 --- \n",
      "\n",
      "--- Getting Team Player Stats for brynas-if 2 ---\n",
      "--- Getting Team Player Stats for frolunda-hc 12 ---\n",
      "--- Getting Team Player Stats for farjestad-bk 4 ---\n",
      "--- Getting Team Player Stats for hv71 5 ---\n",
      "--- Getting Team Player Stats for ik-oskarshamn 31 ---\n",
      "--- Getting Team Player Stats for leksands-if 28 ---\n",
      "--- Getting Team Player Stats for linkoping-hc 6 ---\n",
      "--- Getting Team Player Stats for lulea-hf 7 ---\n",
      "--- Getting Team Player Stats for malmo-redhawks 8 ---\n",
      "--- Getting Team Player Stats for rogle-bk 32 ---\n",
      "--- Getting Team Player Stats for skelleftea-aik 22 ---\n",
      "--- Getting Team Player Stats for timra-ik 11 ---\n",
      "--- Getting Team Player Stats for vaxjo-lakers-hc 339 ---\n",
      "--- Getting Team Player Stats for orebro-hk 36 ---\n",
      "\n",
      "--- Getting League Team Stats for NCAA 2022-2023 --- \n",
      "\n",
      "--- Getting Team Player Stats for air-force-academy 2453 ---\n",
      "--- Getting Team Player Stats for american-international-college 1252 ---\n",
      "--- Getting Team Player Stats for arizona-state-univ. 18066 ---\n",
      "--- Getting Team Player Stats for army-u.s.-military-academy 1273 ---\n",
      "--- Getting Team Player Stats for bemidji-state-univ. 790 ---\n",
      "--- Getting Team Player Stats for bentley-univ. 2319 ---\n",
      "--- Getting Team Player Stats for boston-college 911 ---\n",
      "--- Getting Team Player Stats for boston-univ. 633 ---\n",
      "--- Getting Team Player Stats for bowling-green-state-univ. 1214 ---\n",
      "--- Getting Team Player Stats for brown-univ. 1320 ---\n",
      "--- Getting Team Player Stats for canisius-college 1583 ---\n",
      "--- Getting Team Player Stats for clarkson-univ. 685 ---\n",
      "--- Getting Team Player Stats for colgate-univ. 913 ---\n",
      "--- Getting Team Player Stats for college-of-the-holy-cross 1859 ---\n",
      "--- Getting Team Player Stats for colorado-college 706 ---\n",
      "--- Getting Team Player Stats for cornell-univ. 840 ---\n",
      "--- Getting Team Player Stats for dartmouth-college 1917 ---\n",
      "--- Getting Team Player Stats for ferris-state-univ. 728 ---\n",
      "--- Getting Team Player Stats for harvard-univ. 1339 ---\n",
      "--- Getting Team Player Stats for lake-superior-state-univ. 1792 ---\n",
      "--- Getting Team Player Stats for lindenwood-univ. 35273 ---\n",
      "--- Getting Team Player Stats for long-island-univ. 30556 ---\n",
      "--- Getting Team Player Stats for mercyhurst-univ. 1866 ---\n",
      "--- Getting Team Player Stats for merrimack-college 1871 ---\n",
      "--- Getting Team Player Stats for miami-univ.-ohio 1248 ---\n",
      "--- Getting Team Player Stats for michigan-state-univ. 1157 ---\n",
      "--- Getting Team Player Stats for michigan-tech 548 ---\n",
      "--- Getting Team Player Stats for minnesota-state-univ.-mankato 1520 ---\n",
      "--- Getting Team Player Stats for niagara-univ. 2110 ---\n",
      "--- Getting Team Player Stats for northeastern-univ. 1465 ---\n",
      "--- Getting Team Player Stats for northern-michigan-univ. 925 ---\n",
      "--- Getting Team Player Stats for ohio-state-univ. 1549 ---\n",
      "--- Getting Team Player Stats for penn-state-univ. 2118 ---\n",
      "--- Getting Team Player Stats for princeton-univ. 1551 ---\n",
      "--- Getting Team Player Stats for providence-college 713 ---\n",
      "--- Getting Team Player Stats for quinnipiac-univ. 2078 ---\n",
      "--- Getting Team Player Stats for rit-rochester-inst.-of-tech. 2039 ---\n",
      "--- Getting Team Player Stats for rpi-rensselaer-polytech.-inst. 1758 ---\n",
      "--- Getting Team Player Stats for robert-morris-univ. 1543 ---\n",
      "\n",
      "2022-2023 robert-morris-univ. does not have have proper team stats \n",
      "\n",
      "Error: \n",
      " Cannot remove 1 levels from an index with 1 levels: at least one level must be left.\n",
      "--- Getting Team Player Stats for sacred-heart-univ. 2299 ---\n",
      "--- Getting Team Player Stats for st.-cloud-state-univ. 773 ---\n",
      "--- Getting Team Player Stats for st.-lawrence-univ. 1772 ---\n",
      "--- Getting Team Player Stats for stonehill-college 4991 ---\n",
      "--- Getting Team Player Stats for umass 1074 ---\n",
      "--- Getting Team Player Stats for umass-lowell 1038 ---\n",
      "--- Getting Team Player Stats for union-college 1366 ---\n",
      "--- Getting Team Player Stats for univ.-of-alaska-anchorage 1915 ---\n",
      "--- Getting Team Player Stats for univ.-of-alaska-fairbanks 2071 ---\n",
      "--- Getting Team Player Stats for univ.-of-connecticut 1362 ---\n",
      "--- Getting Team Player Stats for univ.-of-denver 2034 ---\n",
      "--- Getting Team Player Stats for univ.-of-maine 606 ---\n",
      "--- Getting Team Player Stats for univ.-of-michigan 803 ---\n",
      "--- Getting Team Player Stats for univ.-of-minnesota 776 ---\n",
      "--- Getting Team Player Stats for univ.-of-minnesota-duluth 1794 ---\n",
      "--- Getting Team Player Stats for univ.-of-nebraska-omaha 708 ---\n",
      "--- Getting Team Player Stats for univ.-of-new-hampshire 1136 ---\n",
      "--- Getting Team Player Stats for univ.-of-north-dakota 1137 ---\n",
      "--- Getting Team Player Stats for univ.-of-notre-dame 1554 ---\n",
      "--- Getting Team Player Stats for univ.-of-st.-thomas 2745 ---\n",
      "--- Getting Team Player Stats for univ.-of-vermont 710 ---\n",
      "--- Getting Team Player Stats for univ.-of-wisconsin 452 ---\n",
      "--- Getting Team Player Stats for western-michigan-univ. 1250 ---\n",
      "--- Getting Team Player Stats for yale-univ. 786 ---\n",
      "\n",
      "--- Getting League Team Stats for Liiga 2022-2023 --- \n",
      "\n",
      "--- Getting Team Player Stats for hifk 38 ---\n",
      "--- Getting Team Player Stats for hpk 610 ---\n",
      "--- Getting Team Player Stats for ilves 40 ---\n",
      "--- Getting Team Player Stats for jyp 42 ---\n",
      "--- Getting Team Player Stats for jukurit 417 ---\n",
      "--- Getting Team Player Stats for kalpa 536 ---\n",
      "--- Getting Team Player Stats for kookoo 420 ---\n",
      "--- Getting Team Player Stats for karpat 43 ---\n",
      "--- Getting Team Player Stats for lukko 45 ---\n",
      "--- Getting Team Player Stats for pelicans 44 ---\n",
      "--- Getting Team Player Stats for saipa 46 ---\n",
      "--- Getting Team Player Stats for sport 423 ---\n",
      "--- Getting Team Player Stats for tps 48 ---\n",
      "--- Getting Team Player Stats for tappara 47 ---\n",
      "--- Getting Team Player Stats for assat 49 ---\n",
      "\n",
      "--- Getting League Team Stats for DEL 2022-2023 --- \n",
      "\n",
      "--- Getting Team Player Stats for adler-mannheim 119 ---\n",
      "--- Getting Team Player Stats for augsburger-panther 120 ---\n",
      "--- Getting Team Player Stats for bietigheim-steelers 440 ---\n",
      "--- Getting Team Player Stats for dusseldorfer-eg 133 ---\n",
      "--- Getting Team Player Stats for ehc-munchen 981 ---\n",
      "--- Getting Team Player Stats for erc-ingolstadt 445 ---\n",
      "--- Getting Team Player Stats for eisbaren-berlin 122 ---\n",
      "--- Getting Team Player Stats for fischtown-pinguins 441 ---\n",
      "--- Getting Team Player Stats for grizzlys-wolfsburg 975 ---\n",
      "--- Getting Team Player Stats for iserlohn-roosters 475 ---\n",
      "--- Getting Team Player Stats for kolner-haie 128 ---\n",
      "--- Getting Team Player Stats for lowen-frankfurt 5065 ---\n",
      "--- Getting Team Player Stats for nurnberg-ice-tigers 130 ---\n",
      "--- Getting Team Player Stats for schwenninger-wild-wings 132 ---\n",
      "--- Getting Team Player Stats for straubing-tigers 447 ---\n",
      "\n",
      "--- Getting League Team Stats for Slovakia 2022-2023 --- \n",
      "\n",
      "--- Getting Team Player Stats for hc-banska-bystrica 777 ---\n",
      "--- Getting Team Player Stats for hc-kosice 167 ---\n",
      "--- Getting Team Player Stats for hc-nove-zamky 2207 ---\n",
      "--- Getting Team Player Stats for hc-presov 1513 ---\n",
      "--- Getting Team Player Stats for hc-slovan-bratislava 169 ---\n",
      "--- Getting Team Player Stats for hk-32-liptovsky-mikulas 170 ---\n",
      "--- Getting Team Player Stats for hk-dukla-michalovce 1198 ---\n",
      "--- Getting Team Player Stats for hk-dukla-trencin 166 ---\n",
      "--- Getting Team Player Stats for hk-nitra 1153 ---\n",
      "--- Getting Team Player Stats for hk-poprad 168 ---\n"
     ]
    },
    {
     "name": "stdout",
     "output_type": "stream",
     "text": [
      "--- Getting Team Player Stats for hk-spisska-nova-ves 632 ---\n",
      "--- Getting Team Player Stats for hkm-zvolen 172 ---\n",
      "\n",
      "--- Getting League Team Stats for Allsvenskan 2022-2023 --- \n",
      "\n",
      "'NoneType' object has no attribute 'find_all'\n",
      "\n",
      "--- Getting League Team Stats for Allsvenskan 2022-2023 --- \n",
      "\n",
      "\n",
      "---Allsvenskan 2022-2023 not found---\n",
      "\n",
      "'NoneType' object has no attribute 'find_all'\n",
      "\n",
      "--- Getting League Team Stats for QMJHL 2022-2023 --- \n",
      "\n",
      "--- Getting Team Player Stats for acadie-bathurst-titan 881 ---\n",
      "--- Getting Team Player Stats for baie-comeau-drakkar 882 ---\n",
      "--- Getting Team Player Stats for blainville-boisbriand-armada 10195 ---\n",
      "--- Getting Team Player Stats for cape-breton-eagles 893 ---\n",
      "--- Getting Team Player Stats for charlottetown-islanders 4586 ---\n",
      "--- Getting Team Player Stats for chicoutimi-sagueneens 533 ---\n",
      "--- Getting Team Player Stats for drummondville-voltigeurs 883 ---\n",
      "--- Getting Team Player Stats for gatineau-olympiques 1748 ---\n",
      "--- Getting Team Player Stats for halifax-mooseheads 885 ---\n",
      "--- Getting Team Player Stats for moncton-wildcats 887 ---\n",
      "--- Getting Team Player Stats for quebec-remparts 888 ---\n",
      "--- Getting Team Player Stats for rimouski-oceanic 889 ---\n",
      "--- Getting Team Player Stats for rouyn-noranda-huskies 890 ---\n",
      "--- Getting Team Player Stats for saint-john-sea-dogs 2065 ---\n",
      "--- Getting Team Player Stats for shawinigan-cataractes 891 ---\n",
      "--- Getting Team Player Stats for sherbrooke-phoenix 11366 ---\n",
      "--- Getting Team Player Stats for val-d-or-foreurs 892 ---\n",
      "--- Getting Team Player Stats for victoriaville-tigres 676 ---\n",
      "\n",
      "--- Getting League Team Stats for AJHL 2022-2023 --- \n",
      "\n",
      "--- Getting Team Player Stats for blackfalds-bulldogs 32901 ---\n",
      "--- Getting Team Player Stats for bonnyville-pontiacs 2075 ---\n",
      "--- Getting Team Player Stats for brooks-bandits 2105 ---\n",
      "--- Getting Team Player Stats for calgary-canucks 1865 ---\n",
      "--- Getting Team Player Stats for camrose-kodiaks 2069 ---\n",
      "--- Getting Team Player Stats for canmore-eagles 2126 ---\n",
      "--- Getting Team Player Stats for drayton-valley-thunder 2677 ---\n",
      "--- Getting Team Player Stats for drumheller-dragons 2097 ---\n",
      "--- Getting Team Player Stats for fort-mcmurray-oil-barons 2106 ---\n",
      "--- Getting Team Player Stats for grande-prairie-storm 2109 ---\n",
      "--- Getting Team Player Stats for lloydminster-bobcats 3292 ---\n",
      "--- Getting Team Player Stats for okotoks-oilers 2228 ---\n",
      "--- Getting Team Player Stats for olds-grizzlys 2101 ---\n",
      "--- Getting Team Player Stats for sherwood-park-crusaders 2108 ---\n",
      "--- Getting Team Player Stats for spruce-grove-saints 2074 ---\n",
      "--- Getting Team Player Stats for whitecourt-wolverines 12456 ---\n",
      "\n",
      "--- Getting League Team Stats for OJHL 2022-2023 --- \n",
      "\n",
      "--- Getting Team Player Stats for aurora-tigers 1516 ---\n",
      "--- Getting Team Player Stats for brantford-99ers 2331 ---\n",
      "--- Getting Team Player Stats for burlington-cougars 3174 ---\n",
      "--- Getting Team Player Stats for caledon-admirals 7675 ---\n",
      "--- Getting Team Player Stats for cobourg-cougars 3679 ---\n",
      "--- Getting Team Player Stats for collingwood-blues 2112 ---\n",
      "--- Getting Team Player Stats for georgetown-raiders 2116 ---\n",
      "--- Getting Team Player Stats for haliburton-county-huskies 3688 ---\n",
      "--- Getting Team Player Stats for lindsay-muskies 2451 ---\n",
      "--- Getting Team Player Stats for markham-royals 5398 ---\n",
      "--- Getting Team Player Stats for milton-menace 2115 ---\n",
      "--- Getting Team Player Stats for mississauga-chargers 2714 ---\n",
      "--- Getting Team Player Stats for north-york-rangers 2060 ---\n",
      "--- Getting Team Player Stats for oakville-blades 2068 ---\n",
      "--- Getting Team Player Stats for pickering-panthers 1587 ---\n",
      "--- Getting Team Player Stats for st.-michael-s-buzzers 1879 ---\n",
      "--- Getting Team Player Stats for stouffville-spirit 2658 ---\n",
      "--- Getting Team Player Stats for toronto-jr.-canadiens 3689 ---\n",
      "--- Getting Team Player Stats for toronto-patriots 10298 ---\n",
      "--- Getting Team Player Stats for trenton-golden-hawks 5281 ---\n",
      "--- Getting Team Player Stats for wellington-dukes 2066 ---\n",
      "\n",
      "--- Getting League Team Stats for KHL 2022-2023 --- \n",
      "\n",
      "--- Getting Team Player Stats for admiral-vladivostok 15082 ---\n",
      "--- Getting Team Player Stats for ak-bars-kazan 184 ---\n",
      "--- Getting Team Player Stats for amur-khabarovsk 185 ---\n",
      "--- Getting Team Player Stats for avangard-omsk 186 ---\n",
      "--- Getting Team Player Stats for avtomobilist-yekaterinburg 1724 ---\n",
      "--- Getting Team Player Stats for barys-astana 2498 ---\n",
      "--- Getting Team Player Stats for cska-moskva 187 ---\n",
      "--- Getting Team Player Stats for dinamo-minsk 1678 ---\n",
      "--- Getting Team Player Stats for dynamo-moskva 6815 ---\n",
      "--- Getting Team Player Stats for hk-sochi 17166 ---\n",
      "--- Getting Team Player Stats for kunlun-red-star 22214 ---\n",
      "--- Getting Team Player Stats for lokomotiv-yaroslavl 191 ---\n",
      "--- Getting Team Player Stats for metallurg-magnitogorsk 193 ---\n",
      "--- Getting Team Player Stats for neftekhimik-nizhnekamsk 196 ---\n",
      "--- Getting Team Player Stats for ska-st.-petersburg 199 ---\n",
      "--- Getting Team Player Stats for salavat-yulaev-ufa 197 ---\n",
      "--- Getting Team Player Stats for severstal-cherepovets 198 ---\n",
      "--- Getting Team Player Stats for sibir-novosibirsk 1003 ---\n",
      "--- Getting Team Player Stats for spartak-moskva 775 ---\n",
      "--- Getting Team Player Stats for torpedo-nizhny-novgorod 200 ---\n",
      "--- Getting Team Player Stats for traktor-chelyabinsk 1679 ---\n",
      "--- Getting Team Player Stats for vityaz-moscow-region 201 ---\n",
      "\n",
      "--- Getting League Team Stats for VHL 2022-2023 --- \n",
      "\n",
      "--- Getting Team Player Stats for akm-tula-region 33485 ---\n",
      "--- Getting Team Player Stats for bars-kazan 4917 ---\n",
      "--- Getting Team Player Stats for buran-voronezh 4308 ---\n",
      "--- Getting Team Player Stats for chelmet-chelyabinsk 12699 ---\n",
      "--- Getting Team Player Stats for dizel-penza 1739 ---\n",
      "--- Getting Team Player Stats for dynamo-st.-petersburg 22268 ---\n",
      "--- Getting Team Player Stats for gornyak-ugmk 15960 ---\n",
      "--- Getting Team Player Stats for hk-rostov 16125 ---\n",
      "--- Getting Team Player Stats for hk-tambov 2285 ---\n",
      "--- Getting Team Player Stats for izhstal-izhevsk 1732 ---\n",
      "--- Getting Team Player Stats for khimik-voskresensk 935 ---\n",
      "--- Getting Team Player Stats for lada-togliatti 189 ---\n",
      "--- Getting Team Player Stats for metallurg-novokuznetsk 194 ---\n",
      "--- Getting Team Player Stats for molot-perm 195 ---\n",
      "--- Getting Team Player Stats for neftyanik-almetievsk 1708 ---\n",
      "--- Getting Team Player Stats for omskie-krylia 33548 ---\n",
      "--- Getting Team Player Stats for rubin-tyumen 1730 ---\n",
      "--- Getting Team Player Stats for ryazan-vdv 2792 ---\n",
      "--- Getting Team Player Stats for ska-neva-st.-petersburg 4537 ---\n",
      "--- Getting Team Player Stats for sokol-krasnoyarsk 3725 ---\n",
      "--- Getting Team Player Stats for toros-neftekamsk 2376 ---\n",
      "--- Getting Team Player Stats for yermak-angarsk 2838 ---\n",
      "--- Getting Team Player Stats for yugra-khanty-mansiysk 2870 ---\n",
      "--- Getting Team Player Stats for yuzhny-ural-orsk 1257 ---\n",
      "--- Getting Team Player Stats for zauralie-kurgan 2175 ---\n",
      "--- Getting Team Player Stats for zvezda-moskva 7614 ---\n",
      "\n",
      "--- Getting League Team Stats for Czech 2022-2023 --- \n",
      "\n",
      "--- Getting Team Player Stats for bk-mlada-boleslav 699 ---\n",
      "--- Getting Team Player Stats for bili-tyg%C5%99i-liberec 700 ---\n",
      "--- Getting Team Player Stats for hc-dynamo-pardubice 159 ---\n",
      "--- Getting Team Player Stats for hc-energie-karlovy-vary 153 ---\n",
      "--- Getting Team Player Stats for hc-kometa-brno 1190 ---\n",
      "--- Getting Team Player Stats for hc-litvinov 155 ---\n",
      "--- Getting Team Player Stats for hc-motor-%C4%8Ceske-bud%C4%9Bjovice 154 ---\n",
      "--- Getting Team Player Stats for hc-ocela%C5%99i-t%C5%99inec 161 ---\n",
      "--- Getting Team Player Stats for hc-olomouc 1240 ---\n",
      "--- Getting Team Player Stats for hc-plze%C5%88 637 ---\n",
      "--- Getting Team Player Stats for hc-sparta-praha 164 ---\n",
      "--- Getting Team Player Stats for hc-vitkovice 772 ---\n",
      "--- Getting Team Player Stats for mountfield-hk 15659 ---\n",
      "--- Getting Team Player Stats for ryti%C5%99i-kladno 646 ---\n",
      "\n",
      "--- Getting League Team Stats for Czech2 2022-2023 --- \n",
      "\n",
      "--- Getting Team Player Stats for berani-zlin 156 ---\n",
      "--- Getting Team Player Stats for draci-pars-%C5%A0umperk 1192 ---\n",
      "--- Getting Team Player Stats for hc-banik-sokolov 1565 ---\n",
      "--- Getting Team Player Stats for hc-dukla-jihlava 1163 ---\n",
      "--- Getting Team Player Stats for hc-dynamo-pardubice-b 35646 ---\n"
     ]
    },
    {
     "name": "stdout",
     "output_type": "stream",
     "text": [
      "--- Getting Team Player Stats for hc-frydek-mistek 680 ---\n",
      "--- Getting Team Player Stats for hc-poruba-2011 3809 ---\n",
      "--- Getting Team Player Stats for hc-slavia-praha 162 ---\n",
      "--- Getting Team Player Stats for hc-stadion-litom%C4%9B%C5%99ice 3461 ---\n",
      "--- Getting Team Player Stats for hc-zubr-p%C5%99erov 1343 ---\n",
      "--- Getting Team Player Stats for lhk-jest%C5%99abi-prost%C4%9Bjov 1342 ---\n",
      "--- Getting Team Player Stats for sc-kolin 2705 ---\n",
      "--- Getting Team Player Stats for sk-horacka-slavia-t%C5%99ebi%C4%8D 1317 ---\n",
      "--- Getting Team Player Stats for vhk-vsetin 5337 ---\n",
      "\n",
      "--- Getting League Team Stats for USHS-PREP 2022-2023 --- \n",
      "\n",
      "11 columns passed, passed data had 0 columns\n",
      "\n",
      "--- Getting League Team Stats for USHS-PREP 2022-2023 --- \n",
      "\n",
      "--- Getting Team Player Stats for albany-academy 5695 ---\n"
     ]
    },
    {
     "name": "stderr",
     "output_type": "stream",
     "text": [
      "/Users/connorjung/analytics/ep_data_loader/ep_data_loader/ep_data_loader.py:479: RuntimeWarning: invalid value encountered in true_divide\n",
      "  perc_team_g=((df.g.astype(int) / df.gp) / (df.g.astype(int).sum() / df.gp.max())).round(3),\n",
      "/Users/connorjung/analytics/ep_data_loader/ep_data_loader/ep_data_loader.py:480: RuntimeWarning: invalid value encountered in true_divide\n",
      "  perc_team_a=((df.a.astype(int) / df.gp) / (df.a.astype(int).sum() / df.gp.max())).round(3),\n",
      "/Users/connorjung/analytics/ep_data_loader/ep_data_loader/ep_data_loader.py:481: RuntimeWarning: invalid value encountered in true_divide\n",
      "  perc_team_tp=((df.tp.astype(int) / df.gp) / (df.tp.astype(int).sum() / df.gp.max())).round(3))\n"
     ]
    },
    {
     "name": "stdout",
     "output_type": "stream",
     "text": [
      "--- Getting Team Player Stats for austin-prep 8587 ---\n"
     ]
    },
    {
     "name": "stderr",
     "output_type": "stream",
     "text": [
      "/Users/connorjung/analytics/ep_data_loader/ep_data_loader/ep_data_loader.py:479: RuntimeWarning: invalid value encountered in true_divide\n",
      "  perc_team_g=((df.g.astype(int) / df.gp) / (df.g.astype(int).sum() / df.gp.max())).round(3),\n",
      "/Users/connorjung/analytics/ep_data_loader/ep_data_loader/ep_data_loader.py:480: RuntimeWarning: invalid value encountered in true_divide\n",
      "  perc_team_a=((df.a.astype(int) / df.gp) / (df.a.astype(int).sum() / df.gp.max())).round(3),\n",
      "/Users/connorjung/analytics/ep_data_loader/ep_data_loader/ep_data_loader.py:481: RuntimeWarning: invalid value encountered in true_divide\n",
      "  perc_team_tp=((df.tp.astype(int) / df.gp) / (df.tp.astype(int).sum() / df.gp.max())).round(3))\n"
     ]
    },
    {
     "name": "stdout",
     "output_type": "stream",
     "text": [
      "--- Getting Team Player Stats for avon-old-farms-school-2 5390 ---\n"
     ]
    },
    {
     "name": "stderr",
     "output_type": "stream",
     "text": [
      "/Users/connorjung/analytics/ep_data_loader/ep_data_loader/ep_data_loader.py:479: RuntimeWarning: invalid value encountered in true_divide\n",
      "  perc_team_g=((df.g.astype(int) / df.gp) / (df.g.astype(int).sum() / df.gp.max())).round(3),\n",
      "/Users/connorjung/analytics/ep_data_loader/ep_data_loader/ep_data_loader.py:480: RuntimeWarning: invalid value encountered in true_divide\n",
      "  perc_team_a=((df.a.astype(int) / df.gp) / (df.a.astype(int).sum() / df.gp.max())).round(3),\n",
      "/Users/connorjung/analytics/ep_data_loader/ep_data_loader/ep_data_loader.py:481: RuntimeWarning: invalid value encountered in true_divide\n",
      "  perc_team_tp=((df.tp.astype(int) / df.gp) / (df.tp.astype(int).sum() / df.gp.max())).round(3))\n"
     ]
    },
    {
     "name": "stdout",
     "output_type": "stream",
     "text": [
      "--- Getting Team Player Stats for avon-old-farms-school 2743 ---\n"
     ]
    },
    {
     "name": "stderr",
     "output_type": "stream",
     "text": [
      "/Users/connorjung/analytics/ep_data_loader/ep_data_loader/ep_data_loader.py:479: RuntimeWarning: invalid value encountered in true_divide\n",
      "  perc_team_g=((df.g.astype(int) / df.gp) / (df.g.astype(int).sum() / df.gp.max())).round(3),\n",
      "/Users/connorjung/analytics/ep_data_loader/ep_data_loader/ep_data_loader.py:480: RuntimeWarning: invalid value encountered in true_divide\n",
      "  perc_team_a=((df.a.astype(int) / df.gp) / (df.a.astype(int).sum() / df.gp.max())).round(3),\n",
      "/Users/connorjung/analytics/ep_data_loader/ep_data_loader/ep_data_loader.py:481: RuntimeWarning: invalid value encountered in true_divide\n",
      "  perc_team_tp=((df.tp.astype(int) / df.gp) / (df.tp.astype(int).sum() / df.gp.max())).round(3))\n"
     ]
    },
    {
     "name": "stdout",
     "output_type": "stream",
     "text": [
      "--- Getting Team Player Stats for belmont-hill-school 2786 ---\n"
     ]
    },
    {
     "name": "stderr",
     "output_type": "stream",
     "text": [
      "/Users/connorjung/analytics/ep_data_loader/ep_data_loader/ep_data_loader.py:479: RuntimeWarning: invalid value encountered in true_divide\n",
      "  perc_team_g=((df.g.astype(int) / df.gp) / (df.g.astype(int).sum() / df.gp.max())).round(3),\n",
      "/Users/connorjung/analytics/ep_data_loader/ep_data_loader/ep_data_loader.py:480: RuntimeWarning: invalid value encountered in true_divide\n",
      "  perc_team_a=((df.a.astype(int) / df.gp) / (df.a.astype(int).sum() / df.gp.max())).round(3),\n",
      "/Users/connorjung/analytics/ep_data_loader/ep_data_loader/ep_data_loader.py:481: RuntimeWarning: invalid value encountered in true_divide\n",
      "  perc_team_tp=((df.tp.astype(int) / df.gp) / (df.tp.astype(int).sum() / df.gp.max())).round(3))\n"
     ]
    },
    {
     "name": "stdout",
     "output_type": "stream",
     "text": [
      "--- Getting Team Player Stats for bergen-catholic-high 16305 ---\n"
     ]
    },
    {
     "name": "stderr",
     "output_type": "stream",
     "text": [
      "/Users/connorjung/analytics/ep_data_loader/ep_data_loader/ep_data_loader.py:479: RuntimeWarning: divide by zero encountered in true_divide\n",
      "  perc_team_g=((df.g.astype(int) / df.gp) / (df.g.astype(int).sum() / df.gp.max())).round(3),\n",
      "/Users/connorjung/analytics/ep_data_loader/ep_data_loader/ep_data_loader.py:480: RuntimeWarning: divide by zero encountered in true_divide\n",
      "  perc_team_a=((df.a.astype(int) / df.gp) / (df.a.astype(int).sum() / df.gp.max())).round(3),\n",
      "/Users/connorjung/analytics/ep_data_loader/ep_data_loader/ep_data_loader.py:481: RuntimeWarning: divide by zero encountered in true_divide\n",
      "  perc_team_tp=((df.tp.astype(int) / df.gp) / (df.tp.astype(int).sum() / df.gp.max())).round(3))\n"
     ]
    },
    {
     "name": "stdout",
     "output_type": "stream",
     "text": [
      "--- Getting Team Player Stats for berkshire-school 2739 ---\n"
     ]
    },
    {
     "name": "stderr",
     "output_type": "stream",
     "text": [
      "/Users/connorjung/analytics/ep_data_loader/ep_data_loader/ep_data_loader.py:479: RuntimeWarning: invalid value encountered in true_divide\n",
      "  perc_team_g=((df.g.astype(int) / df.gp) / (df.g.astype(int).sum() / df.gp.max())).round(3),\n",
      "/Users/connorjung/analytics/ep_data_loader/ep_data_loader/ep_data_loader.py:480: RuntimeWarning: invalid value encountered in true_divide\n",
      "  perc_team_a=((df.a.astype(int) / df.gp) / (df.a.astype(int).sum() / df.gp.max())).round(3),\n",
      "/Users/connorjung/analytics/ep_data_loader/ep_data_loader/ep_data_loader.py:481: RuntimeWarning: invalid value encountered in true_divide\n",
      "  perc_team_tp=((df.tp.astype(int) / df.gp) / (df.tp.astype(int).sum() / df.gp.max())).round(3))\n"
     ]
    },
    {
     "name": "stdout",
     "output_type": "stream",
     "text": [
      "--- Getting Team Player Stats for berwick-academy 3028 ---\n",
      "--- Getting Team Player Stats for bishop-o-connell-high 3142 ---\n",
      "\n",
      "2022-2023 bishop-o-connell-high does not have have proper team stats \n",
      "\n",
      "Error: \n",
      " Cannot remove 1 levels from an index with 1 levels: at least one level must be left.\n",
      "--- Getting Team Player Stats for boston-college-high 5160 ---\n",
      "\n",
      "2022-2023 boston-college-high does not have have proper team stats \n",
      "\n",
      "Error: \n",
      " Cannot remove 1 levels from an index with 1 levels: at least one level must be left.\n",
      "--- Getting Team Player Stats for brewster-academy 2308 ---\n",
      "\n",
      "2022-2023 brewster-academy does not have have proper team stats \n",
      "\n",
      "Error: \n",
      " Cannot remove 1 levels from an index with 1 levels: at least one level must be left.\n",
      "--- Getting Team Player Stats for bridgton-academy-18u 17489 ---\n",
      "\n",
      "2022-2023 bridgton-academy-18u does not have have proper team stats \n",
      "\n",
      "Error: \n",
      " Cannot remove 1 levels from an index with 1 levels: at least one level must be left.\n",
      "--- Getting Team Player Stats for bridgton-academy 5897 ---\n",
      "\n",
      "2022-2023 bridgton-academy does not have have proper team stats \n",
      "\n",
      "Error: \n",
      " Cannot remove 1 levels from an index with 1 levels: at least one level must be left.\n",
      "--- Getting Team Player Stats for brooks-school 13902 ---\n"
     ]
    },
    {
     "name": "stderr",
     "output_type": "stream",
     "text": [
      "/Users/connorjung/analytics/ep_data_loader/ep_data_loader/ep_data_loader.py:479: RuntimeWarning: invalid value encountered in true_divide\n",
      "  perc_team_g=((df.g.astype(int) / df.gp) / (df.g.astype(int).sum() / df.gp.max())).round(3),\n",
      "/Users/connorjung/analytics/ep_data_loader/ep_data_loader/ep_data_loader.py:480: RuntimeWarning: invalid value encountered in true_divide\n",
      "  perc_team_a=((df.a.astype(int) / df.gp) / (df.a.astype(int).sum() / df.gp.max())).round(3),\n",
      "/Users/connorjung/analytics/ep_data_loader/ep_data_loader/ep_data_loader.py:481: RuntimeWarning: invalid value encountered in true_divide\n",
      "  perc_team_tp=((df.tp.astype(int) / df.gp) / (df.tp.astype(int).sum() / df.gp.max())).round(3))\n"
     ]
    },
    {
     "name": "stdout",
     "output_type": "stream",
     "text": [
      "--- Getting Team Player Stats for brunswick-school 9295 ---\n"
     ]
    },
    {
     "name": "stderr",
     "output_type": "stream",
     "text": [
      "/Users/connorjung/analytics/ep_data_loader/ep_data_loader/ep_data_loader.py:479: RuntimeWarning: invalid value encountered in true_divide\n",
      "  perc_team_g=((df.g.astype(int) / df.gp) / (df.g.astype(int).sum() / df.gp.max())).round(3),\n",
      "/Users/connorjung/analytics/ep_data_loader/ep_data_loader/ep_data_loader.py:480: RuntimeWarning: invalid value encountered in true_divide\n",
      "  perc_team_a=((df.a.astype(int) / df.gp) / (df.a.astype(int).sum() / df.gp.max())).round(3),\n",
      "/Users/connorjung/analytics/ep_data_loader/ep_data_loader/ep_data_loader.py:481: RuntimeWarning: invalid value encountered in true_divide\n",
      "  perc_team_tp=((df.tp.astype(int) / df.gp) / (df.tp.astype(int).sum() / df.gp.max())).round(3))\n"
     ]
    },
    {
     "name": "stdout",
     "output_type": "stream",
     "text": [
      "--- Getting Team Player Stats for buckingham-browne-&-nichols 11669 ---\n"
     ]
    },
    {
     "name": "stderr",
     "output_type": "stream",
     "text": [
      "/Users/connorjung/analytics/ep_data_loader/ep_data_loader/ep_data_loader.py:479: RuntimeWarning: invalid value encountered in true_divide\n",
      "  perc_team_g=((df.g.astype(int) / df.gp) / (df.g.astype(int).sum() / df.gp.max())).round(3),\n",
      "/Users/connorjung/analytics/ep_data_loader/ep_data_loader/ep_data_loader.py:480: RuntimeWarning: invalid value encountered in true_divide\n",
      "  perc_team_a=((df.a.astype(int) / df.gp) / (df.a.astype(int).sum() / df.gp.max())).round(3),\n",
      "/Users/connorjung/analytics/ep_data_loader/ep_data_loader/ep_data_loader.py:481: RuntimeWarning: invalid value encountered in true_divide\n",
      "  perc_team_tp=((df.tp.astype(int) / df.gp) / (df.tp.astype(int).sum() / df.gp.max())).round(3))\n"
     ]
    },
    {
     "name": "stdout",
     "output_type": "stream",
     "text": [
      "--- Getting Team Player Stats for bullis-school 28411 ---\n",
      "\n",
      "2022-2023 bullis-school does not have have proper team stats \n",
      "\n",
      "Error: \n",
      " Cannot remove 1 levels from an index with 1 levels: at least one level must be left.\n",
      "--- Getting Team Player Stats for calvert-hall-college-high 23982 ---\n",
      "\n",
      "2022-2023 calvert-hall-college-high does not have have proper team stats \n",
      "\n",
      "Error: \n",
      " Cannot remove 1 levels from an index with 1 levels: at least one level must be left.\n",
      "--- Getting Team Player Stats for canterbury-school 5582 ---\n"
     ]
    },
    {
     "name": "stderr",
     "output_type": "stream",
     "text": [
      "/Users/connorjung/analytics/ep_data_loader/ep_data_loader/ep_data_loader.py:479: RuntimeWarning: invalid value encountered in true_divide\n",
      "  perc_team_g=((df.g.astype(int) / df.gp) / (df.g.astype(int).sum() / df.gp.max())).round(3),\n",
      "/Users/connorjung/analytics/ep_data_loader/ep_data_loader/ep_data_loader.py:480: RuntimeWarning: invalid value encountered in true_divide\n",
      "  perc_team_a=((df.a.astype(int) / df.gp) / (df.a.astype(int).sum() / df.gp.max())).round(3),\n",
      "/Users/connorjung/analytics/ep_data_loader/ep_data_loader/ep_data_loader.py:481: RuntimeWarning: invalid value encountered in true_divide\n",
      "  perc_team_tp=((df.tp.astype(int) / df.gp) / (df.tp.astype(int).sum() / df.gp.max())).round(3))\n"
     ]
    },
    {
     "name": "stdout",
     "output_type": "stream",
     "text": [
      "--- Getting Team Player Stats for cardigan-mountain-school 8651 ---\n",
      "\n",
      "2022-2023 cardigan-mountain-school does not have have proper team stats \n",
      "\n",
      "Error: \n",
      " Cannot remove 1 levels from an index with 1 levels: at least one level must be left.\n",
      "--- Getting Team Player Stats for central-catholic-high 12630 ---\n"
     ]
    },
    {
     "name": "stderr",
     "output_type": "stream",
     "text": [
      "/Users/connorjung/analytics/ep_data_loader/ep_data_loader/ep_data_loader.py:479: RuntimeWarning: invalid value encountered in true_divide\n",
      "  perc_team_g=((df.g.astype(int) / df.gp) / (df.g.astype(int).sum() / df.gp.max())).round(3),\n",
      "/Users/connorjung/analytics/ep_data_loader/ep_data_loader/ep_data_loader.py:480: RuntimeWarning: invalid value encountered in true_divide\n",
      "  perc_team_a=((df.a.astype(int) / df.gp) / (df.a.astype(int).sum() / df.gp.max())).round(3),\n",
      "/Users/connorjung/analytics/ep_data_loader/ep_data_loader/ep_data_loader.py:481: RuntimeWarning: invalid value encountered in true_divide\n",
      "  perc_team_tp=((df.tp.astype(int) / df.gp) / (df.tp.astype(int).sum() / df.gp.max())).round(3))\n"
     ]
    },
    {
     "name": "stdout",
     "output_type": "stream",
     "text": [
      "--- Getting Team Player Stats for cheshire-academy 25022 ---\n",
      "\n",
      "2022-2023 cheshire-academy does not have have proper team stats \n",
      "\n",
      "Error: \n",
      " Cannot remove 1 levels from an index with 1 levels: at least one level must be left.\n",
      "--- Getting Team Player Stats for choate-rosemary-hall 2763 ---\n"
     ]
    },
    {
     "name": "stderr",
     "output_type": "stream",
     "text": [
      "/Users/connorjung/analytics/ep_data_loader/ep_data_loader/ep_data_loader.py:479: RuntimeWarning: invalid value encountered in true_divide\n",
      "  perc_team_g=((df.g.astype(int) / df.gp) / (df.g.astype(int).sum() / df.gp.max())).round(3),\n",
      "/Users/connorjung/analytics/ep_data_loader/ep_data_loader/ep_data_loader.py:480: RuntimeWarning: invalid value encountered in true_divide\n",
      "  perc_team_a=((df.a.astype(int) / df.gp) / (df.a.astype(int).sum() / df.gp.max())).round(3),\n",
      "/Users/connorjung/analytics/ep_data_loader/ep_data_loader/ep_data_loader.py:481: RuntimeWarning: invalid value encountered in true_divide\n",
      "  perc_team_tp=((df.tp.astype(int) / df.gp) / (df.tp.astype(int).sum() / df.gp.max())).round(3))\n"
     ]
    },
    {
     "name": "stdout",
     "output_type": "stream",
     "text": [
      "--- Getting Team Player Stats for christian-brothers-academy 6120 ---\n"
     ]
    },
    {
     "name": "stderr",
     "output_type": "stream",
     "text": [
      "/Users/connorjung/analytics/ep_data_loader/ep_data_loader/ep_data_loader.py:479: RuntimeWarning: invalid value encountered in true_divide\n",
      "  perc_team_g=((df.g.astype(int) / df.gp) / (df.g.astype(int).sum() / df.gp.max())).round(3),\n",
      "/Users/connorjung/analytics/ep_data_loader/ep_data_loader/ep_data_loader.py:480: RuntimeWarning: invalid value encountered in true_divide\n",
      "  perc_team_a=((df.a.astype(int) / df.gp) / (df.a.astype(int).sum() / df.gp.max())).round(3),\n",
      "/Users/connorjung/analytics/ep_data_loader/ep_data_loader/ep_data_loader.py:481: RuntimeWarning: invalid value encountered in true_divide\n",
      "  perc_team_tp=((df.tp.astype(int) / df.gp) / (df.tp.astype(int).sum() / df.gp.max())).round(3))\n"
     ]
    },
    {
     "name": "stdout",
     "output_type": "stream",
     "text": [
      "--- Getting Team Player Stats for culver-military-academy-prep 4673 ---\n",
      "--- Getting Team Player Stats for cushing-academy 2636 ---\n"
     ]
    },
    {
     "name": "stderr",
     "output_type": "stream",
     "text": [
      "/Users/connorjung/analytics/ep_data_loader/ep_data_loader/ep_data_loader.py:479: RuntimeWarning: invalid value encountered in true_divide\n",
      "  perc_team_g=((df.g.astype(int) / df.gp) / (df.g.astype(int).sum() / df.gp.max())).round(3),\n",
      "/Users/connorjung/analytics/ep_data_loader/ep_data_loader/ep_data_loader.py:480: RuntimeWarning: invalid value encountered in true_divide\n",
      "  perc_team_a=((df.a.astype(int) / df.gp) / (df.a.astype(int).sum() / df.gp.max())).round(3),\n",
      "/Users/connorjung/analytics/ep_data_loader/ep_data_loader/ep_data_loader.py:481: RuntimeWarning: invalid value encountered in true_divide\n",
      "  perc_team_tp=((df.tp.astype(int) / df.gp) / (df.tp.astype(int).sum() / df.gp.max())).round(3))\n"
     ]
    },
    {
     "name": "stdout",
     "output_type": "stream",
     "text": [
      "--- Getting Team Player Stats for deerfield-academy 2223 ---\n"
     ]
    },
    {
     "name": "stderr",
     "output_type": "stream",
     "text": [
      "/Users/connorjung/analytics/ep_data_loader/ep_data_loader/ep_data_loader.py:479: RuntimeWarning: invalid value encountered in true_divide\n",
      "  perc_team_g=((df.g.astype(int) / df.gp) / (df.g.astype(int).sum() / df.gp.max())).round(3),\n",
      "/Users/connorjung/analytics/ep_data_loader/ep_data_loader/ep_data_loader.py:480: RuntimeWarning: invalid value encountered in true_divide\n",
      "  perc_team_a=((df.a.astype(int) / df.gp) / (df.a.astype(int).sum() / df.gp.max())).round(3),\n",
      "/Users/connorjung/analytics/ep_data_loader/ep_data_loader/ep_data_loader.py:481: RuntimeWarning: invalid value encountered in true_divide\n",
      "  perc_team_tp=((df.tp.astype(int) / df.gp) / (df.tp.astype(int).sum() / df.gp.max())).round(3))\n"
     ]
    },
    {
     "name": "stdout",
     "output_type": "stream",
     "text": [
      "--- Getting Team Player Stats for delaware-prep 26739 ---\n",
      "\n",
      "2022-2023 delaware-prep does not have have proper team stats \n",
      "\n",
      "Error: \n",
      " Cannot remove 1 levels from an index with 1 levels: at least one level must be left.\n",
      "--- Getting Team Player Stats for delbarton-school 4621 ---\n"
     ]
    },
    {
     "name": "stderr",
     "output_type": "stream",
     "text": [
      "/Users/connorjung/analytics/ep_data_loader/ep_data_loader/ep_data_loader.py:479: RuntimeWarning: invalid value encountered in true_divide\n",
      "  perc_team_g=((df.g.astype(int) / df.gp) / (df.g.astype(int).sum() / df.gp.max())).round(3),\n",
      "/Users/connorjung/analytics/ep_data_loader/ep_data_loader/ep_data_loader.py:480: RuntimeWarning: invalid value encountered in true_divide\n",
      "  perc_team_a=((df.a.astype(int) / df.gp) / (df.a.astype(int).sum() / df.gp.max())).round(3),\n",
      "/Users/connorjung/analytics/ep_data_loader/ep_data_loader/ep_data_loader.py:481: RuntimeWarning: invalid value encountered in true_divide\n",
      "  perc_team_tp=((df.tp.astype(int) / df.gp) / (df.tp.astype(int).sum() / df.gp.max())).round(3))\n"
     ]
    },
    {
     "name": "stdout",
     "output_type": "stream",
     "text": [
      "--- Getting Team Player Stats for dexter-southfield-school 7001 ---\n"
     ]
    },
    {
     "name": "stderr",
     "output_type": "stream",
     "text": [
      "/Users/connorjung/analytics/ep_data_loader/ep_data_loader/ep_data_loader.py:479: RuntimeWarning: invalid value encountered in true_divide\n",
      "  perc_team_g=((df.g.astype(int) / df.gp) / (df.g.astype(int).sum() / df.gp.max())).round(3),\n",
      "/Users/connorjung/analytics/ep_data_loader/ep_data_loader/ep_data_loader.py:480: RuntimeWarning: invalid value encountered in true_divide\n",
      "  perc_team_a=((df.a.astype(int) / df.gp) / (df.a.astype(int).sum() / df.gp.max())).round(3),\n",
      "/Users/connorjung/analytics/ep_data_loader/ep_data_loader/ep_data_loader.py:481: RuntimeWarning: invalid value encountered in true_divide\n",
      "  perc_team_tp=((df.tp.astype(int) / df.gp) / (df.tp.astype(int).sum() / df.gp.max())).round(3))\n"
     ]
    },
    {
     "name": "stdout",
     "output_type": "stream",
     "text": [
      "--- Getting Team Player Stats for don-bosco-prep 11566 ---\n",
      "\n",
      "2022-2023 don-bosco-prep does not have have proper team stats \n",
      "\n",
      "Error: \n",
      " Cannot remove 1 levels from an index with 1 levels: at least one level must be left.\n",
      "--- Getting Team Player Stats for eaglebrook-school 11953 ---\n",
      "\n",
      "2022-2023 eaglebrook-school does not have have proper team stats \n",
      "\n",
      "Error: \n",
      " Cannot remove 1 levels from an index with 1 levels: at least one level must be left.\n",
      "--- Getting Team Player Stats for gilmour-academy 5380 ---\n",
      "--- Getting Team Player Stats for groton-school 5583 ---\n"
     ]
    },
    {
     "name": "stderr",
     "output_type": "stream",
     "text": [
      "/Users/connorjung/analytics/ep_data_loader/ep_data_loader/ep_data_loader.py:479: RuntimeWarning: invalid value encountered in true_divide\n",
      "  perc_team_g=((df.g.astype(int) / df.gp) / (df.g.astype(int).sum() / df.gp.max())).round(3),\n",
      "/Users/connorjung/analytics/ep_data_loader/ep_data_loader/ep_data_loader.py:480: RuntimeWarning: invalid value encountered in true_divide\n",
      "  perc_team_a=((df.a.astype(int) / df.gp) / (df.a.astype(int).sum() / df.gp.max())).round(3),\n",
      "/Users/connorjung/analytics/ep_data_loader/ep_data_loader/ep_data_loader.py:481: RuntimeWarning: invalid value encountered in true_divide\n",
      "  perc_team_tp=((df.tp.astype(int) / df.gp) / (df.tp.astype(int).sum() / df.gp.max())).round(3))\n"
     ]
    },
    {
     "name": "stdout",
     "output_type": "stream",
     "text": [
      "--- Getting Team Player Stats for hebron-academy 5696 ---\n"
     ]
    },
    {
     "name": "stderr",
     "output_type": "stream",
     "text": [
      "/Users/connorjung/analytics/ep_data_loader/ep_data_loader/ep_data_loader.py:479: RuntimeWarning: invalid value encountered in true_divide\n",
      "  perc_team_g=((df.g.astype(int) / df.gp) / (df.g.astype(int).sum() / df.gp.max())).round(3),\n",
      "/Users/connorjung/analytics/ep_data_loader/ep_data_loader/ep_data_loader.py:480: RuntimeWarning: invalid value encountered in true_divide\n",
      "  perc_team_a=((df.a.astype(int) / df.gp) / (df.a.astype(int).sum() / df.gp.max())).round(3),\n",
      "/Users/connorjung/analytics/ep_data_loader/ep_data_loader/ep_data_loader.py:481: RuntimeWarning: invalid value encountered in true_divide\n",
      "  perc_team_tp=((df.tp.astype(int) / df.gp) / (df.tp.astype(int).sum() / df.gp.max())).round(3))\n"
     ]
    },
    {
     "name": "stdout",
     "output_type": "stream",
     "text": [
      "--- Getting Team Player Stats for holderness-school 5994 ---\n",
      "--- Getting Team Player Stats for hoosac-school 5959 ---\n"
     ]
    },
    {
     "name": "stderr",
     "output_type": "stream",
     "text": [
      "/Users/connorjung/analytics/ep_data_loader/ep_data_loader/ep_data_loader.py:479: RuntimeWarning: invalid value encountered in true_divide\n",
      "  perc_team_g=((df.g.astype(int) / df.gp) / (df.g.astype(int).sum() / df.gp.max())).round(3),\n",
      "/Users/connorjung/analytics/ep_data_loader/ep_data_loader/ep_data_loader.py:480: RuntimeWarning: invalid value encountered in true_divide\n",
      "  perc_team_a=((df.a.astype(int) / df.gp) / (df.a.astype(int).sum() / df.gp.max())).round(3),\n",
      "/Users/connorjung/analytics/ep_data_loader/ep_data_loader/ep_data_loader.py:481: RuntimeWarning: invalid value encountered in true_divide\n",
      "  perc_team_tp=((df.tp.astype(int) / df.gp) / (df.tp.astype(int).sum() / df.gp.max())).round(3))\n"
     ]
    },
    {
     "name": "stdout",
     "output_type": "stream",
     "text": [
      "--- Getting Team Player Stats for hotchkiss-school 4618 ---\n"
     ]
    },
    {
     "name": "stderr",
     "output_type": "stream",
     "text": [
      "/Users/connorjung/analytics/ep_data_loader/ep_data_loader/ep_data_loader.py:479: RuntimeWarning: invalid value encountered in true_divide\n",
      "  perc_team_g=((df.g.astype(int) / df.gp) / (df.g.astype(int).sum() / df.gp.max())).round(3),\n",
      "/Users/connorjung/analytics/ep_data_loader/ep_data_loader/ep_data_loader.py:480: RuntimeWarning: invalid value encountered in true_divide\n",
      "  perc_team_a=((df.a.astype(int) / df.gp) / (df.a.astype(int).sum() / df.gp.max())).round(3),\n",
      "/Users/connorjung/analytics/ep_data_loader/ep_data_loader/ep_data_loader.py:481: RuntimeWarning: invalid value encountered in true_divide\n",
      "  perc_team_tp=((df.tp.astype(int) / df.gp) / (df.tp.astype(int).sum() / df.gp.max())).round(3))\n"
     ]
    },
    {
     "name": "stdout",
     "output_type": "stream",
     "text": [
      "--- Getting Team Player Stats for kent-school 2761 ---\n"
     ]
    },
    {
     "name": "stderr",
     "output_type": "stream",
     "text": [
      "/Users/connorjung/analytics/ep_data_loader/ep_data_loader/ep_data_loader.py:479: RuntimeWarning: invalid value encountered in true_divide\n",
      "  perc_team_g=((df.g.astype(int) / df.gp) / (df.g.astype(int).sum() / df.gp.max())).round(3),\n",
      "/Users/connorjung/analytics/ep_data_loader/ep_data_loader/ep_data_loader.py:480: RuntimeWarning: invalid value encountered in true_divide\n",
      "  perc_team_a=((df.a.astype(int) / df.gp) / (df.a.astype(int).sum() / df.gp.max())).round(3),\n",
      "/Users/connorjung/analytics/ep_data_loader/ep_data_loader/ep_data_loader.py:481: RuntimeWarning: invalid value encountered in true_divide\n",
      "  perc_team_tp=((df.tp.astype(int) / df.gp) / (df.tp.astype(int).sum() / df.gp.max())).round(3))\n"
     ]
    },
    {
     "name": "stdout",
     "output_type": "stream",
     "text": [
      "--- Getting Team Player Stats for kents-hill-school 3462 ---\n"
     ]
    },
    {
     "name": "stderr",
     "output_type": "stream",
     "text": [
      "/Users/connorjung/analytics/ep_data_loader/ep_data_loader/ep_data_loader.py:479: RuntimeWarning: invalid value encountered in true_divide\n",
      "  perc_team_g=((df.g.astype(int) / df.gp) / (df.g.astype(int).sum() / df.gp.max())).round(3),\n",
      "/Users/connorjung/analytics/ep_data_loader/ep_data_loader/ep_data_loader.py:480: RuntimeWarning: invalid value encountered in true_divide\n",
      "  perc_team_a=((df.a.astype(int) / df.gp) / (df.a.astype(int).sum() / df.gp.max())).round(3),\n",
      "/Users/connorjung/analytics/ep_data_loader/ep_data_loader/ep_data_loader.py:481: RuntimeWarning: invalid value encountered in true_divide\n",
      "  perc_team_tp=((df.tp.astype(int) / df.gp) / (df.tp.astype(int).sum() / df.gp.max())).round(3))\n"
     ]
    },
    {
     "name": "stdout",
     "output_type": "stream",
     "text": [
      "--- Getting Team Player Stats for kimball-union-academy 6017 ---\n"
     ]
    },
    {
     "name": "stderr",
     "output_type": "stream",
     "text": [
      "/Users/connorjung/analytics/ep_data_loader/ep_data_loader/ep_data_loader.py:479: RuntimeWarning: invalid value encountered in true_divide\n",
      "  perc_team_g=((df.g.astype(int) / df.gp) / (df.g.astype(int).sum() / df.gp.max())).round(3),\n",
      "/Users/connorjung/analytics/ep_data_loader/ep_data_loader/ep_data_loader.py:480: RuntimeWarning: invalid value encountered in true_divide\n",
      "  perc_team_a=((df.a.astype(int) / df.gp) / (df.a.astype(int).sum() / df.gp.max())).round(3),\n",
      "/Users/connorjung/analytics/ep_data_loader/ep_data_loader/ep_data_loader.py:481: RuntimeWarning: invalid value encountered in true_divide\n",
      "  perc_team_tp=((df.tp.astype(int) / df.gp) / (df.tp.astype(int).sum() / df.gp.max())).round(3))\n"
     ]
    },
    {
     "name": "stdout",
     "output_type": "stream",
     "text": [
      "--- Getting Team Player Stats for kingswood-oxford-school 13610 ---\n"
     ]
    },
    {
     "name": "stderr",
     "output_type": "stream",
     "text": [
      "/Users/connorjung/analytics/ep_data_loader/ep_data_loader/ep_data_loader.py:479: RuntimeWarning: invalid value encountered in true_divide\n",
      "  perc_team_g=((df.g.astype(int) / df.gp) / (df.g.astype(int).sum() / df.gp.max())).round(3),\n",
      "/Users/connorjung/analytics/ep_data_loader/ep_data_loader/ep_data_loader.py:480: RuntimeWarning: invalid value encountered in true_divide\n",
      "  perc_team_a=((df.a.astype(int) / df.gp) / (df.a.astype(int).sum() / df.gp.max())).round(3),\n",
      "/Users/connorjung/analytics/ep_data_loader/ep_data_loader/ep_data_loader.py:481: RuntimeWarning: invalid value encountered in true_divide\n",
      "  perc_team_tp=((df.tp.astype(int) / df.gp) / (df.tp.astype(int).sum() / df.gp.max())).round(3))\n"
     ]
    },
    {
     "name": "stdout",
     "output_type": "stream",
     "text": [
      "--- Getting Team Player Stats for kiski-school-prep 28582 ---\n"
     ]
    },
    {
     "name": "stderr",
     "output_type": "stream",
     "text": [
      "/Users/connorjung/analytics/ep_data_loader/ep_data_loader/ep_data_loader.py:479: RuntimeWarning: invalid value encountered in true_divide\n",
      "  perc_team_g=((df.g.astype(int) / df.gp) / (df.g.astype(int).sum() / df.gp.max())).round(3),\n",
      "/Users/connorjung/analytics/ep_data_loader/ep_data_loader/ep_data_loader.py:480: RuntimeWarning: invalid value encountered in true_divide\n",
      "  perc_team_a=((df.a.astype(int) / df.gp) / (df.a.astype(int).sum() / df.gp.max())).round(3),\n",
      "/Users/connorjung/analytics/ep_data_loader/ep_data_loader/ep_data_loader.py:481: RuntimeWarning: invalid value encountered in true_divide\n",
      "  perc_team_tp=((df.tp.astype(int) / df.gp) / (df.tp.astype(int).sum() / df.gp.max())).round(3))\n"
     ]
    },
    {
     "name": "stdout",
     "output_type": "stream",
     "text": [
      "--- Getting Team Player Stats for lake-forest-academy 6140 ---\n",
      "--- Getting Team Player Stats for landon-school 19120 ---\n",
      "\n",
      "2022-2023 landon-school does not have have proper team stats \n",
      "\n",
      "Error: \n",
      " Cannot remove 1 levels from an index with 1 levels: at least one level must be left.\n",
      "--- Getting Team Player Stats for lawrence-academy 1134 ---\n"
     ]
    },
    {
     "name": "stderr",
     "output_type": "stream",
     "text": [
      "/Users/connorjung/analytics/ep_data_loader/ep_data_loader/ep_data_loader.py:479: RuntimeWarning: invalid value encountered in true_divide\n",
      "  perc_team_g=((df.g.astype(int) / df.gp) / (df.g.astype(int).sum() / df.gp.max())).round(3),\n",
      "/Users/connorjung/analytics/ep_data_loader/ep_data_loader/ep_data_loader.py:480: RuntimeWarning: invalid value encountered in true_divide\n",
      "  perc_team_a=((df.a.astype(int) / df.gp) / (df.a.astype(int).sum() / df.gp.max())).round(3),\n",
      "/Users/connorjung/analytics/ep_data_loader/ep_data_loader/ep_data_loader.py:481: RuntimeWarning: invalid value encountered in true_divide\n",
      "  perc_team_tp=((df.tp.astype(int) / df.gp) / (df.tp.astype(int).sum() / df.gp.max())).round(3))\n"
     ]
    },
    {
     "name": "stdout",
     "output_type": "stream",
     "text": [
      "--- Getting Team Player Stats for malden-catholic-high 6251 ---\n",
      "\n",
      "2022-2023 malden-catholic-high does not have have proper team stats \n",
      "\n",
      "Error: \n",
      " Cannot remove 1 levels from an index with 1 levels: at least one level must be left.\n",
      "--- Getting Team Player Stats for middlesex-black-bears 17577 ---\n"
     ]
    },
    {
     "name": "stderr",
     "output_type": "stream",
     "text": [
      "/Users/connorjung/analytics/ep_data_loader/ep_data_loader/ep_data_loader.py:479: RuntimeWarning: invalid value encountered in true_divide\n",
      "  perc_team_g=((df.g.astype(int) / df.gp) / (df.g.astype(int).sum() / df.gp.max())).round(3),\n",
      "/Users/connorjung/analytics/ep_data_loader/ep_data_loader/ep_data_loader.py:480: RuntimeWarning: invalid value encountered in true_divide\n",
      "  perc_team_a=((df.a.astype(int) / df.gp) / (df.a.astype(int).sum() / df.gp.max())).round(3),\n",
      "/Users/connorjung/analytics/ep_data_loader/ep_data_loader/ep_data_loader.py:481: RuntimeWarning: invalid value encountered in true_divide\n",
      "  perc_team_tp=((df.tp.astype(int) / df.gp) / (df.tp.astype(int).sum() / df.gp.max())).round(3))\n"
     ]
    },
    {
     "name": "stdout",
     "output_type": "stream",
     "text": [
      "--- Getting Team Player Stats for middlesex-school 11957 ---\n",
      "--- Getting Team Player Stats for millbrook-school 4611 ---\n"
     ]
    },
    {
     "name": "stderr",
     "output_type": "stream",
     "text": [
      "/Users/connorjung/analytics/ep_data_loader/ep_data_loader/ep_data_loader.py:479: RuntimeWarning: invalid value encountered in true_divide\n",
      "  perc_team_g=((df.g.astype(int) / df.gp) / (df.g.astype(int).sum() / df.gp.max())).round(3),\n",
      "/Users/connorjung/analytics/ep_data_loader/ep_data_loader/ep_data_loader.py:480: RuntimeWarning: invalid value encountered in true_divide\n",
      "  perc_team_a=((df.a.astype(int) / df.gp) / (df.a.astype(int).sum() / df.gp.max())).round(3),\n",
      "/Users/connorjung/analytics/ep_data_loader/ep_data_loader/ep_data_loader.py:481: RuntimeWarning: invalid value encountered in true_divide\n",
      "  perc_team_tp=((df.tp.astype(int) / df.gp) / (df.tp.astype(int).sum() / df.gp.max())).round(3))\n"
     ]
    },
    {
     "name": "stdout",
     "output_type": "stream",
     "text": [
      "--- Getting Team Player Stats for milton-academy 5282 ---\n"
     ]
    },
    {
     "name": "stderr",
     "output_type": "stream",
     "text": [
      "/Users/connorjung/analytics/ep_data_loader/ep_data_loader/ep_data_loader.py:479: RuntimeWarning: invalid value encountered in true_divide\n",
      "  perc_team_g=((df.g.astype(int) / df.gp) / (df.g.astype(int).sum() / df.gp.max())).round(3),\n",
      "/Users/connorjung/analytics/ep_data_loader/ep_data_loader/ep_data_loader.py:480: RuntimeWarning: invalid value encountered in true_divide\n",
      "  perc_team_a=((df.a.astype(int) / df.gp) / (df.a.astype(int).sum() / df.gp.max())).round(3),\n",
      "/Users/connorjung/analytics/ep_data_loader/ep_data_loader/ep_data_loader.py:481: RuntimeWarning: invalid value encountered in true_divide\n",
      "  perc_team_tp=((df.tp.astype(int) / df.gp) / (df.tp.astype(int).sum() / df.gp.max())).round(3))\n"
     ]
    },
    {
     "name": "stdout",
     "output_type": "stream",
     "text": [
      "--- Getting Team Player Stats for morristown-beard-school 21518 ---\n",
      "--- Getting Team Player Stats for moses-brown-school 10597 ---\n",
      "\n",
      "2022-2023 moses-brown-school does not have have proper team stats \n",
      "\n",
      "Error: \n",
      " Cannot remove 1 levels from an index with 1 levels: at least one level must be left.\n",
      "--- Getting Team Player Stats for mount-saint-joseph-high 28417 ---\n",
      "\n",
      "2022-2023 mount-saint-joseph-high does not have have proper team stats \n",
      "\n",
      "Error: \n",
      " Cannot remove 1 levels from an index with 1 levels: at least one level must be left.\n",
      "--- Getting Team Player Stats for mount-st.-charles-academy 6171 ---\n"
     ]
    },
    {
     "name": "stderr",
     "output_type": "stream",
     "text": [
      "/Users/connorjung/analytics/ep_data_loader/ep_data_loader/ep_data_loader.py:479: RuntimeWarning: invalid value encountered in true_divide\n",
      "  perc_team_g=((df.g.astype(int) / df.gp) / (df.g.astype(int).sum() / df.gp.max())).round(3),\n",
      "/Users/connorjung/analytics/ep_data_loader/ep_data_loader/ep_data_loader.py:480: RuntimeWarning: invalid value encountered in true_divide\n",
      "  perc_team_a=((df.a.astype(int) / df.gp) / (df.a.astype(int).sum() / df.gp.max())).round(3),\n",
      "/Users/connorjung/analytics/ep_data_loader/ep_data_loader/ep_data_loader.py:481: RuntimeWarning: invalid value encountered in true_divide\n",
      "  perc_team_tp=((df.tp.astype(int) / df.gp) / (df.tp.astype(int).sum() / df.gp.max())).round(3))\n"
     ]
    },
    {
     "name": "stdout",
     "output_type": "stream",
     "text": [
      "--- Getting Team Player Stats for new-hampton-school 5714 ---\n"
     ]
    },
    {
     "name": "stderr",
     "output_type": "stream",
     "text": [
      "/Users/connorjung/analytics/ep_data_loader/ep_data_loader/ep_data_loader.py:479: RuntimeWarning: invalid value encountered in true_divide\n",
      "  perc_team_g=((df.g.astype(int) / df.gp) / (df.g.astype(int).sum() / df.gp.max())).round(3),\n",
      "/Users/connorjung/analytics/ep_data_loader/ep_data_loader/ep_data_loader.py:480: RuntimeWarning: invalid value encountered in true_divide\n",
      "  perc_team_a=((df.a.astype(int) / df.gp) / (df.a.astype(int).sum() / df.gp.max())).round(3),\n",
      "/Users/connorjung/analytics/ep_data_loader/ep_data_loader/ep_data_loader.py:481: RuntimeWarning: invalid value encountered in true_divide\n",
      "  perc_team_tp=((df.tp.astype(int) / df.gp) / (df.tp.astype(int).sum() / df.gp.max())).round(3))\n"
     ]
    },
    {
     "name": "stdout",
     "output_type": "stream",
     "text": [
      "--- Getting Team Player Stats for nichols-school 2352 ---\n",
      "--- Getting Team Player Stats for noble-&-greenough-school 9583 ---\n"
     ]
    },
    {
     "name": "stderr",
     "output_type": "stream",
     "text": [
      "/Users/connorjung/analytics/ep_data_loader/ep_data_loader/ep_data_loader.py:479: RuntimeWarning: invalid value encountered in true_divide\n",
      "  perc_team_g=((df.g.astype(int) / df.gp) / (df.g.astype(int).sum() / df.gp.max())).round(3),\n",
      "/Users/connorjung/analytics/ep_data_loader/ep_data_loader/ep_data_loader.py:480: RuntimeWarning: invalid value encountered in true_divide\n",
      "  perc_team_a=((df.a.astype(int) / df.gp) / (df.a.astype(int).sum() / df.gp.max())).round(3),\n",
      "/Users/connorjung/analytics/ep_data_loader/ep_data_loader/ep_data_loader.py:481: RuntimeWarning: invalid value encountered in true_divide\n",
      "  perc_team_tp=((df.tp.astype(int) / df.gp) / (df.tp.astype(int).sum() / df.gp.max())).round(3))\n"
     ]
    },
    {
     "name": "stdout",
     "output_type": "stream",
     "text": [
      "--- Getting Team Player Stats for north-yarmouth-academy 2978 ---\n"
     ]
    },
    {
     "name": "stderr",
     "output_type": "stream",
     "text": [
      "/Users/connorjung/analytics/ep_data_loader/ep_data_loader/ep_data_loader.py:479: RuntimeWarning: invalid value encountered in true_divide\n",
      "  perc_team_g=((df.g.astype(int) / df.gp) / (df.g.astype(int).sum() / df.gp.max())).round(3),\n",
      "/Users/connorjung/analytics/ep_data_loader/ep_data_loader/ep_data_loader.py:480: RuntimeWarning: invalid value encountered in true_divide\n",
      "  perc_team_a=((df.a.astype(int) / df.gp) / (df.a.astype(int).sum() / df.gp.max())).round(3),\n",
      "/Users/connorjung/analytics/ep_data_loader/ep_data_loader/ep_data_loader.py:481: RuntimeWarning: invalid value encountered in true_divide\n",
      "  perc_team_tp=((df.tp.astype(int) / df.gp) / (df.tp.astype(int).sum() / df.gp.max())).round(3))\n"
     ]
    },
    {
     "name": "stdout",
     "output_type": "stream",
     "text": [
      "--- Getting Team Player Stats for northfield-mount-hermon-school 2122 ---\n",
      "--- Getting Team Player Stats for northwood-school 16383 ---\n",
      "--- Getting Team Player Stats for phillips-academy-andover 4608 ---\n",
      "--- Getting Team Player Stats for phillips-exeter-academy 6052 ---\n"
     ]
    },
    {
     "name": "stderr",
     "output_type": "stream",
     "text": [
      "/Users/connorjung/analytics/ep_data_loader/ep_data_loader/ep_data_loader.py:479: RuntimeWarning: invalid value encountered in true_divide\n",
      "  perc_team_g=((df.g.astype(int) / df.gp) / (df.g.astype(int).sum() / df.gp.max())).round(3),\n",
      "/Users/connorjung/analytics/ep_data_loader/ep_data_loader/ep_data_loader.py:480: RuntimeWarning: invalid value encountered in true_divide\n",
      "  perc_team_a=((df.a.astype(int) / df.gp) / (df.a.astype(int).sum() / df.gp.max())).round(3),\n",
      "/Users/connorjung/analytics/ep_data_loader/ep_data_loader/ep_data_loader.py:481: RuntimeWarning: invalid value encountered in true_divide\n",
      "  perc_team_tp=((df.tp.astype(int) / df.gp) / (df.tp.astype(int).sum() / df.gp.max())).round(3))\n"
     ]
    },
    {
     "name": "stdout",
     "output_type": "stream",
     "text": [
      "--- Getting Team Player Stats for pingree-school 5908 ---\n"
     ]
    },
    {
     "name": "stderr",
     "output_type": "stream",
     "text": [
      "/Users/connorjung/analytics/ep_data_loader/ep_data_loader/ep_data_loader.py:479: RuntimeWarning: invalid value encountered in true_divide\n",
      "  perc_team_g=((df.g.astype(int) / df.gp) / (df.g.astype(int).sum() / df.gp.max())).round(3),\n",
      "/Users/connorjung/analytics/ep_data_loader/ep_data_loader/ep_data_loader.py:480: RuntimeWarning: invalid value encountered in true_divide\n",
      "  perc_team_a=((df.a.astype(int) / df.gp) / (df.a.astype(int).sum() / df.gp.max())).round(3),\n",
      "/Users/connorjung/analytics/ep_data_loader/ep_data_loader/ep_data_loader.py:481: RuntimeWarning: invalid value encountered in true_divide\n",
      "  perc_team_tp=((df.tp.astype(int) / df.gp) / (df.tp.astype(int).sum() / df.gp.max())).round(3))\n"
     ]
    },
    {
     "name": "stdout",
     "output_type": "stream",
     "text": [
      "--- Getting Team Player Stats for pomfret-school 5609 ---\n"
     ]
    },
    {
     "name": "stderr",
     "output_type": "stream",
     "text": [
      "/Users/connorjung/analytics/ep_data_loader/ep_data_loader/ep_data_loader.py:479: RuntimeWarning: invalid value encountered in true_divide\n",
      "  perc_team_g=((df.g.astype(int) / df.gp) / (df.g.astype(int).sum() / df.gp.max())).round(3),\n",
      "/Users/connorjung/analytics/ep_data_loader/ep_data_loader/ep_data_loader.py:480: RuntimeWarning: invalid value encountered in true_divide\n",
      "  perc_team_a=((df.a.astype(int) / df.gp) / (df.a.astype(int).sum() / df.gp.max())).round(3),\n",
      "/Users/connorjung/analytics/ep_data_loader/ep_data_loader/ep_data_loader.py:481: RuntimeWarning: invalid value encountered in true_divide\n",
      "  perc_team_tp=((df.tp.astype(int) / df.gp) / (df.tp.astype(int).sum() / df.gp.max())).round(3))\n"
     ]
    },
    {
     "name": "stdout",
     "output_type": "stream",
     "text": [
      "--- Getting Team Player Stats for pope-francis-prep 11469 ---\n",
      "\n",
      "2022-2023 pope-francis-prep does not have have proper team stats \n",
      "\n",
      "Error: \n",
      " Cannot remove 1 levels from an index with 1 levels: at least one level must be left.\n",
      "--- Getting Team Player Stats for portledge-school 14930 ---\n",
      "\n",
      "2022-2023 portledge-school does not have have proper team stats \n",
      "\n",
      "Error: \n",
      " Cannot remove 1 levels from an index with 1 levels: at least one level must be left.\n",
      "--- Getting Team Player Stats for portsmouth-abbey-school 9239 ---\n",
      "--- Getting Team Player Stats for princeton-day-school 15186 ---\n"
     ]
    },
    {
     "name": "stderr",
     "output_type": "stream",
     "text": [
      "/Users/connorjung/analytics/ep_data_loader/ep_data_loader/ep_data_loader.py:479: RuntimeWarning: invalid value encountered in true_divide\n",
      "  perc_team_g=((df.g.astype(int) / df.gp) / (df.g.astype(int).sum() / df.gp.max())).round(3),\n",
      "/Users/connorjung/analytics/ep_data_loader/ep_data_loader/ep_data_loader.py:480: RuntimeWarning: invalid value encountered in true_divide\n",
      "  perc_team_a=((df.a.astype(int) / df.gp) / (df.a.astype(int).sum() / df.gp.max())).round(3),\n",
      "/Users/connorjung/analytics/ep_data_loader/ep_data_loader/ep_data_loader.py:481: RuntimeWarning: invalid value encountered in true_divide\n",
      "  perc_team_tp=((df.tp.astype(int) / df.gp) / (df.tp.astype(int).sum() / df.gp.max())).round(3))\n"
     ]
    },
    {
     "name": "stdout",
     "output_type": "stream",
     "text": [
      "--- Getting Team Player Stats for proctor-academy 5736 ---\n"
     ]
    },
    {
     "name": "stderr",
     "output_type": "stream",
     "text": [
      "/Users/connorjung/analytics/ep_data_loader/ep_data_loader/ep_data_loader.py:479: RuntimeWarning: invalid value encountered in true_divide\n",
      "  perc_team_g=((df.g.astype(int) / df.gp) / (df.g.astype(int).sum() / df.gp.max())).round(3),\n",
      "/Users/connorjung/analytics/ep_data_loader/ep_data_loader/ep_data_loader.py:480: RuntimeWarning: invalid value encountered in true_divide\n",
      "  perc_team_a=((df.a.astype(int) / df.gp) / (df.a.astype(int).sum() / df.gp.max())).round(3),\n",
      "/Users/connorjung/analytics/ep_data_loader/ep_data_loader/ep_data_loader.py:481: RuntimeWarning: invalid value encountered in true_divide\n",
      "  perc_team_tp=((df.tp.astype(int) / df.gp) / (df.tp.astype(int).sum() / df.gp.max())).round(3))\n"
     ]
    },
    {
     "name": "stdout",
     "output_type": "stream",
     "text": [
      "--- Getting Team Player Stats for rice-memorial-high 9850 ---\n",
      "--- Getting Team Player Stats for rye-country-day-school 12146 ---\n",
      "\n",
      "2022-2023 rye-country-day-school does not have have proper team stats \n",
      "\n",
      "Error: \n",
      " Cannot remove 1 levels from an index with 1 levels: at least one level must be left.\n",
      "--- Getting Team Player Stats for salisbury-school 4666 ---\n"
     ]
    },
    {
     "name": "stderr",
     "output_type": "stream",
     "text": [
      "/Users/connorjung/analytics/ep_data_loader/ep_data_loader/ep_data_loader.py:479: RuntimeWarning: invalid value encountered in true_divide\n",
      "  perc_team_g=((df.g.astype(int) / df.gp) / (df.g.astype(int).sum() / df.gp.max())).round(3),\n",
      "/Users/connorjung/analytics/ep_data_loader/ep_data_loader/ep_data_loader.py:480: RuntimeWarning: invalid value encountered in true_divide\n",
      "  perc_team_a=((df.a.astype(int) / df.gp) / (df.a.astype(int).sum() / df.gp.max())).round(3),\n",
      "/Users/connorjung/analytics/ep_data_loader/ep_data_loader/ep_data_loader.py:481: RuntimeWarning: invalid value encountered in true_divide\n",
      "  perc_team_tp=((df.tp.astype(int) / df.gp) / (df.tp.astype(int).sum() / df.gp.max())).round(3))\n"
     ]
    },
    {
     "name": "stdout",
     "output_type": "stream",
     "text": [
      "--- Getting Team Player Stats for shady-side-academy 9932 ---\n",
      "--- Getting Team Player Stats for shattuck-st.-mary-s-18u-prep 2292 ---\n",
      "--- Getting Team Player Stats for st.-albans-school 23980 ---\n",
      "\n",
      "2022-2023 st.-albans-school does not have have proper team stats \n",
      "\n",
      "Error: \n",
      " Cannot remove 1 levels from an index with 1 levels: at least one level must be left.\n",
      "--- Getting Team Player Stats for st.-francis-high-prep-|athol,ny| 5962 ---\n",
      "--- Getting Team Player Stats for st.-george-s-school 5576 ---\n"
     ]
    },
    {
     "name": "stderr",
     "output_type": "stream",
     "text": [
      "/Users/connorjung/analytics/ep_data_loader/ep_data_loader/ep_data_loader.py:479: RuntimeWarning: invalid value encountered in true_divide\n",
      "  perc_team_g=((df.g.astype(int) / df.gp) / (df.g.astype(int).sum() / df.gp.max())).round(3),\n",
      "/Users/connorjung/analytics/ep_data_loader/ep_data_loader/ep_data_loader.py:480: RuntimeWarning: invalid value encountered in true_divide\n",
      "  perc_team_a=((df.a.astype(int) / df.gp) / (df.a.astype(int).sum() / df.gp.max())).round(3),\n",
      "/Users/connorjung/analytics/ep_data_loader/ep_data_loader/ep_data_loader.py:481: RuntimeWarning: invalid value encountered in true_divide\n",
      "  perc_team_tp=((df.tp.astype(int) / df.gp) / (df.tp.astype(int).sum() / df.gp.max())).round(3))\n"
     ]
    },
    {
     "name": "stdout",
     "output_type": "stream",
     "text": [
      "--- Getting Team Player Stats for st.-john-s-prep 6272 ---\n",
      "\n",
      "2022-2023 st.-john-s-prep does not have have proper team stats \n",
      "\n",
      "Error: \n",
      " Cannot remove 1 levels from an index with 1 levels: at least one level must be left.\n",
      "--- Getting Team Player Stats for st.-mark-s-school 7221 ---\n"
     ]
    },
    {
     "name": "stderr",
     "output_type": "stream",
     "text": [
      "/Users/connorjung/analytics/ep_data_loader/ep_data_loader/ep_data_loader.py:479: RuntimeWarning: invalid value encountered in true_divide\n",
      "  perc_team_g=((df.g.astype(int) / df.gp) / (df.g.astype(int).sum() / df.gp.max())).round(3),\n",
      "/Users/connorjung/analytics/ep_data_loader/ep_data_loader/ep_data_loader.py:480: RuntimeWarning: invalid value encountered in true_divide\n",
      "  perc_team_a=((df.a.astype(int) / df.gp) / (df.a.astype(int).sum() / df.gp.max())).round(3),\n",
      "/Users/connorjung/analytics/ep_data_loader/ep_data_loader/ep_data_loader.py:481: RuntimeWarning: invalid value encountered in true_divide\n",
      "  perc_team_tp=((df.tp.astype(int) / df.gp) / (df.tp.astype(int).sum() / df.gp.max())).round(3))\n"
     ]
    },
    {
     "name": "stdout",
     "output_type": "stream",
     "text": [
      "--- Getting Team Player Stats for st.-paul-s-school 2793 ---\n"
     ]
    },
    {
     "name": "stderr",
     "output_type": "stream",
     "text": [
      "/Users/connorjung/analytics/ep_data_loader/ep_data_loader/ep_data_loader.py:479: RuntimeWarning: invalid value encountered in true_divide\n",
      "  perc_team_g=((df.g.astype(int) / df.gp) / (df.g.astype(int).sum() / df.gp.max())).round(3),\n",
      "/Users/connorjung/analytics/ep_data_loader/ep_data_loader/ep_data_loader.py:480: RuntimeWarning: invalid value encountered in true_divide\n",
      "  perc_team_a=((df.a.astype(int) / df.gp) / (df.a.astype(int).sum() / df.gp.max())).round(3),\n",
      "/Users/connorjung/analytics/ep_data_loader/ep_data_loader/ep_data_loader.py:481: RuntimeWarning: invalid value encountered in true_divide\n",
      "  perc_team_tp=((df.tp.astype(int) / df.gp) / (df.tp.astype(int).sum() / df.gp.max())).round(3))\n"
     ]
    },
    {
     "name": "stdout",
     "output_type": "stream",
     "text": [
      "--- Getting Team Player Stats for st.-sebastian-s-school 6170 ---\n"
     ]
    },
    {
     "name": "stderr",
     "output_type": "stream",
     "text": [
      "/Users/connorjung/analytics/ep_data_loader/ep_data_loader/ep_data_loader.py:479: RuntimeWarning: invalid value encountered in true_divide\n",
      "  perc_team_g=((df.g.astype(int) / df.gp) / (df.g.astype(int).sum() / df.gp.max())).round(3),\n",
      "/Users/connorjung/analytics/ep_data_loader/ep_data_loader/ep_data_loader.py:480: RuntimeWarning: invalid value encountered in true_divide\n",
      "  perc_team_a=((df.a.astype(int) / df.gp) / (df.a.astype(int).sum() / df.gp.max())).round(3),\n",
      "/Users/connorjung/analytics/ep_data_loader/ep_data_loader/ep_data_loader.py:481: RuntimeWarning: invalid value encountered in true_divide\n",
      "  perc_team_tp=((df.tp.astype(int) / df.gp) / (df.tp.astype(int).sum() / df.gp.max())).round(3))\n"
     ]
    },
    {
     "name": "stdout",
     "output_type": "stream",
     "text": [
      "--- Getting Team Player Stats for tabor-academy 1122 ---\n",
      "--- Getting Team Player Stats for taft-school 2212 ---\n"
     ]
    },
    {
     "name": "stderr",
     "output_type": "stream",
     "text": [
      "/Users/connorjung/analytics/ep_data_loader/ep_data_loader/ep_data_loader.py:479: RuntimeWarning: invalid value encountered in true_divide\n",
      "  perc_team_g=((df.g.astype(int) / df.gp) / (df.g.astype(int).sum() / df.gp.max())).round(3),\n",
      "/Users/connorjung/analytics/ep_data_loader/ep_data_loader/ep_data_loader.py:480: RuntimeWarning: invalid value encountered in true_divide\n",
      "  perc_team_a=((df.a.astype(int) / df.gp) / (df.a.astype(int).sum() / df.gp.max())).round(3),\n",
      "/Users/connorjung/analytics/ep_data_loader/ep_data_loader/ep_data_loader.py:481: RuntimeWarning: invalid value encountered in true_divide\n",
      "  perc_team_tp=((df.tp.astype(int) / df.gp) / (df.tp.astype(int).sum() / df.gp.max())).round(3))\n"
     ]
    },
    {
     "name": "stdout",
     "output_type": "stream",
     "text": [
      "--- Getting Team Player Stats for thayer-academy 4660 ---\n"
     ]
    },
    {
     "name": "stderr",
     "output_type": "stream",
     "text": [
      "/Users/connorjung/analytics/ep_data_loader/ep_data_loader/ep_data_loader.py:479: RuntimeWarning: invalid value encountered in true_divide\n",
      "  perc_team_g=((df.g.astype(int) / df.gp) / (df.g.astype(int).sum() / df.gp.max())).round(3),\n",
      "/Users/connorjung/analytics/ep_data_loader/ep_data_loader/ep_data_loader.py:480: RuntimeWarning: invalid value encountered in true_divide\n",
      "  perc_team_a=((df.a.astype(int) / df.gp) / (df.a.astype(int).sum() / df.gp.max())).round(3),\n",
      "/Users/connorjung/analytics/ep_data_loader/ep_data_loader/ep_data_loader.py:481: RuntimeWarning: invalid value encountered in true_divide\n",
      "  perc_team_tp=((df.tp.astype(int) / df.gp) / (df.tp.astype(int).sum() / df.gp.max())).round(3))\n"
     ]
    },
    {
     "name": "stdout",
     "output_type": "stream",
     "text": [
      "--- Getting Team Player Stats for the-frederick-gunn-school 4675 ---\n"
     ]
    },
    {
     "name": "stderr",
     "output_type": "stream",
     "text": [
      "/Users/connorjung/analytics/ep_data_loader/ep_data_loader/ep_data_loader.py:479: RuntimeWarning: invalid value encountered in true_divide\n",
      "  perc_team_g=((df.g.astype(int) / df.gp) / (df.g.astype(int).sum() / df.gp.max())).round(3),\n",
      "/Users/connorjung/analytics/ep_data_loader/ep_data_loader/ep_data_loader.py:480: RuntimeWarning: invalid value encountered in true_divide\n",
      "  perc_team_a=((df.a.astype(int) / df.gp) / (df.a.astype(int).sum() / df.gp.max())).round(3),\n",
      "/Users/connorjung/analytics/ep_data_loader/ep_data_loader/ep_data_loader.py:481: RuntimeWarning: invalid value encountered in true_divide\n",
      "  perc_team_tp=((df.tp.astype(int) / df.gp) / (df.tp.astype(int).sum() / df.gp.max())).round(3))\n"
     ]
    },
    {
     "name": "stdout",
     "output_type": "stream",
     "text": [
      "--- Getting Team Player Stats for the-governor-s-academy 5290 ---\n"
     ]
    },
    {
     "name": "stderr",
     "output_type": "stream",
     "text": [
      "/Users/connorjung/analytics/ep_data_loader/ep_data_loader/ep_data_loader.py:479: RuntimeWarning: invalid value encountered in true_divide\n",
      "  perc_team_g=((df.g.astype(int) / df.gp) / (df.g.astype(int).sum() / df.gp.max())).round(3),\n",
      "/Users/connorjung/analytics/ep_data_loader/ep_data_loader/ep_data_loader.py:480: RuntimeWarning: invalid value encountered in true_divide\n",
      "  perc_team_a=((df.a.astype(int) / df.gp) / (df.a.astype(int).sum() / df.gp.max())).round(3),\n",
      "/Users/connorjung/analytics/ep_data_loader/ep_data_loader/ep_data_loader.py:481: RuntimeWarning: invalid value encountered in true_divide\n",
      "  perc_team_tp=((df.tp.astype(int) / df.gp) / (df.tp.astype(int).sum() / df.gp.max())).round(3))\n"
     ]
    },
    {
     "name": "stdout",
     "output_type": "stream",
     "text": [
      "--- Getting Team Player Stats for the-harvey-school 10193 ---\n"
     ]
    },
    {
     "name": "stderr",
     "output_type": "stream",
     "text": [
      "/Users/connorjung/analytics/ep_data_loader/ep_data_loader/ep_data_loader.py:479: RuntimeWarning: invalid value encountered in true_divide\n",
      "  perc_team_g=((df.g.astype(int) / df.gp) / (df.g.astype(int).sum() / df.gp.max())).round(3),\n",
      "/Users/connorjung/analytics/ep_data_loader/ep_data_loader/ep_data_loader.py:480: RuntimeWarning: invalid value encountered in true_divide\n",
      "  perc_team_a=((df.a.astype(int) / df.gp) / (df.a.astype(int).sum() / df.gp.max())).round(3),\n",
      "/Users/connorjung/analytics/ep_data_loader/ep_data_loader/ep_data_loader.py:481: RuntimeWarning: invalid value encountered in true_divide\n",
      "  perc_team_tp=((df.tp.astype(int) / df.gp) / (df.tp.astype(int).sum() / df.gp.max())).round(3))\n"
     ]
    },
    {
     "name": "stdout",
     "output_type": "stream",
     "text": [
      "--- Getting Team Player Stats for the-hill-school 6009 ---\n",
      "\n",
      "2022-2023 the-hill-school does not have have proper team stats \n",
      "\n",
      "Error: \n",
      " Cannot remove 1 levels from an index with 1 levels: at least one level must be left.\n",
      "--- Getting Team Player Stats for the-hun-school 17911 ---\n"
     ]
    },
    {
     "name": "stderr",
     "output_type": "stream",
     "text": [
      "/Users/connorjung/analytics/ep_data_loader/ep_data_loader/ep_data_loader.py:479: RuntimeWarning: invalid value encountered in true_divide\n",
      "  perc_team_g=((df.g.astype(int) / df.gp) / (df.g.astype(int).sum() / df.gp.max())).round(3),\n",
      "/Users/connorjung/analytics/ep_data_loader/ep_data_loader/ep_data_loader.py:480: RuntimeWarning: invalid value encountered in true_divide\n",
      "  perc_team_a=((df.a.astype(int) / df.gp) / (df.a.astype(int).sum() / df.gp.max())).round(3),\n",
      "/Users/connorjung/analytics/ep_data_loader/ep_data_loader/ep_data_loader.py:481: RuntimeWarning: invalid value encountered in true_divide\n",
      "  perc_team_tp=((df.tp.astype(int) / df.gp) / (df.tp.astype(int).sum() / df.gp.max())).round(3))\n"
     ]
    },
    {
     "name": "stdout",
     "output_type": "stream",
     "text": [
      "--- Getting Team Player Stats for the-lawrenceville-school 5920 ---\n"
     ]
    },
    {
     "name": "stderr",
     "output_type": "stream",
     "text": [
      "/Users/connorjung/analytics/ep_data_loader/ep_data_loader/ep_data_loader.py:479: RuntimeWarning: invalid value encountered in true_divide\n",
      "  perc_team_g=((df.g.astype(int) / df.gp) / (df.g.astype(int).sum() / df.gp.max())).round(3),\n",
      "/Users/connorjung/analytics/ep_data_loader/ep_data_loader/ep_data_loader.py:480: RuntimeWarning: invalid value encountered in true_divide\n",
      "  perc_team_a=((df.a.astype(int) / df.gp) / (df.a.astype(int).sum() / df.gp.max())).round(3),\n",
      "/Users/connorjung/analytics/ep_data_loader/ep_data_loader/ep_data_loader.py:481: RuntimeWarning: invalid value encountered in true_divide\n",
      "  perc_team_tp=((df.tp.astype(int) / df.gp) / (df.tp.astype(int).sum() / df.gp.max())).round(3))\n"
     ]
    },
    {
     "name": "stdout",
     "output_type": "stream",
     "text": [
      "--- Getting Team Player Stats for the-loomis-chaffee-school 5739 ---\n"
     ]
    },
    {
     "name": "stderr",
     "output_type": "stream",
     "text": [
      "/Users/connorjung/analytics/ep_data_loader/ep_data_loader/ep_data_loader.py:479: RuntimeWarning: invalid value encountered in true_divide\n",
      "  perc_team_g=((df.g.astype(int) / df.gp) / (df.g.astype(int).sum() / df.gp.max())).round(3),\n",
      "/Users/connorjung/analytics/ep_data_loader/ep_data_loader/ep_data_loader.py:480: RuntimeWarning: invalid value encountered in true_divide\n",
      "  perc_team_a=((df.a.astype(int) / df.gp) / (df.a.astype(int).sum() / df.gp.max())).round(3),\n",
      "/Users/connorjung/analytics/ep_data_loader/ep_data_loader/ep_data_loader.py:481: RuntimeWarning: invalid value encountered in true_divide\n",
      "  perc_team_tp=((df.tp.astype(int) / df.gp) / (df.tp.astype(int).sum() / df.gp.max())).round(3))\n"
     ]
    },
    {
     "name": "stdout",
     "output_type": "stream",
     "text": [
      "--- Getting Team Player Stats for the-rivers-school 7266 ---\n"
     ]
    },
    {
     "name": "stderr",
     "output_type": "stream",
     "text": [
      "/Users/connorjung/analytics/ep_data_loader/ep_data_loader/ep_data_loader.py:479: RuntimeWarning: invalid value encountered in true_divide\n",
      "  perc_team_g=((df.g.astype(int) / df.gp) / (df.g.astype(int).sum() / df.gp.max())).round(3),\n",
      "/Users/connorjung/analytics/ep_data_loader/ep_data_loader/ep_data_loader.py:480: RuntimeWarning: invalid value encountered in true_divide\n",
      "  perc_team_a=((df.a.astype(int) / df.gp) / (df.a.astype(int).sum() / df.gp.max())).round(3),\n",
      "/Users/connorjung/analytics/ep_data_loader/ep_data_loader/ep_data_loader.py:481: RuntimeWarning: invalid value encountered in true_divide\n",
      "  perc_team_tp=((df.tp.astype(int) / df.gp) / (df.tp.astype(int).sum() / df.gp.max())).round(3))\n"
     ]
    },
    {
     "name": "stdout",
     "output_type": "stream",
     "text": [
      "--- Getting Team Player Stats for the-roxbury-latin-school 14915 ---\n"
     ]
    },
    {
     "name": "stderr",
     "output_type": "stream",
     "text": [
      "/Users/connorjung/analytics/ep_data_loader/ep_data_loader/ep_data_loader.py:479: RuntimeWarning: invalid value encountered in true_divide\n",
      "  perc_team_g=((df.g.astype(int) / df.gp) / (df.g.astype(int).sum() / df.gp.max())).round(3),\n",
      "/Users/connorjung/analytics/ep_data_loader/ep_data_loader/ep_data_loader.py:480: RuntimeWarning: invalid value encountered in true_divide\n",
      "  perc_team_a=((df.a.astype(int) / df.gp) / (df.a.astype(int).sum() / df.gp.max())).round(3),\n",
      "/Users/connorjung/analytics/ep_data_loader/ep_data_loader/ep_data_loader.py:481: RuntimeWarning: invalid value encountered in true_divide\n",
      "  perc_team_tp=((df.tp.astype(int) / df.gp) / (df.tp.astype(int).sum() / df.gp.max())).round(3))\n"
     ]
    },
    {
     "name": "stdout",
     "output_type": "stream",
     "text": [
      "--- Getting Team Player Stats for the-winchendon-school-2 30083 ---\n",
      "\n",
      "2022-2023 the-winchendon-school-2 does not have have proper team stats \n",
      "\n",
      "Error: \n",
      " Cannot remove 1 levels from an index with 1 levels: at least one level must be left.\n",
      "--- Getting Team Player Stats for the-winchendon-school 2808 ---\n"
     ]
    },
    {
     "name": "stderr",
     "output_type": "stream",
     "text": [
      "/Users/connorjung/analytics/ep_data_loader/ep_data_loader/ep_data_loader.py:479: RuntimeWarning: invalid value encountered in true_divide\n",
      "  perc_team_g=((df.g.astype(int) / df.gp) / (df.g.astype(int).sum() / df.gp.max())).round(3),\n",
      "/Users/connorjung/analytics/ep_data_loader/ep_data_loader/ep_data_loader.py:480: RuntimeWarning: invalid value encountered in true_divide\n",
      "  perc_team_a=((df.a.astype(int) / df.gp) / (df.a.astype(int).sum() / df.gp.max())).round(3),\n",
      "/Users/connorjung/analytics/ep_data_loader/ep_data_loader/ep_data_loader.py:481: RuntimeWarning: invalid value encountered in true_divide\n",
      "  perc_team_tp=((df.tp.astype(int) / df.gp) / (df.tp.astype(int).sum() / df.gp.max())).round(3))\n"
     ]
    },
    {
     "name": "stdout",
     "output_type": "stream",
     "text": [
      "--- Getting Team Player Stats for tilton-school 5182 ---\n"
     ]
    },
    {
     "name": "stderr",
     "output_type": "stream",
     "text": [
      "/Users/connorjung/analytics/ep_data_loader/ep_data_loader/ep_data_loader.py:479: RuntimeWarning: invalid value encountered in true_divide\n",
      "  perc_team_g=((df.g.astype(int) / df.gp) / (df.g.astype(int).sum() / df.gp.max())).round(3),\n",
      "/Users/connorjung/analytics/ep_data_loader/ep_data_loader/ep_data_loader.py:480: RuntimeWarning: invalid value encountered in true_divide\n",
      "  perc_team_a=((df.a.astype(int) / df.gp) / (df.a.astype(int).sum() / df.gp.max())).round(3),\n",
      "/Users/connorjung/analytics/ep_data_loader/ep_data_loader/ep_data_loader.py:481: RuntimeWarning: invalid value encountered in true_divide\n",
      "  perc_team_tp=((df.tp.astype(int) / df.gp) / (df.tp.astype(int).sum() / df.gp.max())).round(3))\n"
     ]
    },
    {
     "name": "stdout",
     "output_type": "stream",
     "text": [
      "--- Getting Team Player Stats for trenton-prep 29517 ---\n",
      "\n",
      "2022-2023 trenton-prep does not have have proper team stats \n",
      "\n",
      "Error: \n",
      " Cannot remove 1 levels from an index with 1 levels: at least one level must be left.\n",
      "--- Getting Team Player Stats for trinity-pawling-school 9601 ---\n"
     ]
    },
    {
     "name": "stderr",
     "output_type": "stream",
     "text": [
      "/Users/connorjung/analytics/ep_data_loader/ep_data_loader/ep_data_loader.py:479: RuntimeWarning: invalid value encountered in true_divide\n",
      "  perc_team_g=((df.g.astype(int) / df.gp) / (df.g.astype(int).sum() / df.gp.max())).round(3),\n",
      "/Users/connorjung/analytics/ep_data_loader/ep_data_loader/ep_data_loader.py:480: RuntimeWarning: invalid value encountered in true_divide\n",
      "  perc_team_a=((df.a.astype(int) / df.gp) / (df.a.astype(int).sum() / df.gp.max())).round(3),\n",
      "/Users/connorjung/analytics/ep_data_loader/ep_data_loader/ep_data_loader.py:481: RuntimeWarning: invalid value encountered in true_divide\n",
      "  perc_team_tp=((df.tp.astype(int) / df.gp) / (df.tp.astype(int).sum() / df.gp.max())).round(3))\n"
     ]
    },
    {
     "name": "stdout",
     "output_type": "stream",
     "text": [
      "--- Getting Team Player Stats for vermont-academy 5734 ---\n"
     ]
    },
    {
     "name": "stderr",
     "output_type": "stream",
     "text": [
      "/Users/connorjung/analytics/ep_data_loader/ep_data_loader/ep_data_loader.py:479: RuntimeWarning: invalid value encountered in true_divide\n",
      "  perc_team_g=((df.g.astype(int) / df.gp) / (df.g.astype(int).sum() / df.gp.max())).round(3),\n",
      "/Users/connorjung/analytics/ep_data_loader/ep_data_loader/ep_data_loader.py:480: RuntimeWarning: invalid value encountered in true_divide\n",
      "  perc_team_a=((df.a.astype(int) / df.gp) / (df.a.astype(int).sum() / df.gp.max())).round(3),\n",
      "/Users/connorjung/analytics/ep_data_loader/ep_data_loader/ep_data_loader.py:481: RuntimeWarning: invalid value encountered in true_divide\n",
      "  perc_team_tp=((df.tp.astype(int) / df.gp) / (df.tp.astype(int).sum() / df.gp.max())).round(3))\n"
     ]
    },
    {
     "name": "stdout",
     "output_type": "stream",
     "text": [
      "--- Getting Team Player Stats for westminster-prep 2208 ---\n"
     ]
    },
    {
     "name": "stderr",
     "output_type": "stream",
     "text": [
      "/Users/connorjung/analytics/ep_data_loader/ep_data_loader/ep_data_loader.py:479: RuntimeWarning: invalid value encountered in true_divide\n",
      "  perc_team_g=((df.g.astype(int) / df.gp) / (df.g.astype(int).sum() / df.gp.max())).round(3),\n",
      "/Users/connorjung/analytics/ep_data_loader/ep_data_loader/ep_data_loader.py:480: RuntimeWarning: invalid value encountered in true_divide\n",
      "  perc_team_a=((df.a.astype(int) / df.gp) / (df.a.astype(int).sum() / df.gp.max())).round(3),\n",
      "/Users/connorjung/analytics/ep_data_loader/ep_data_loader/ep_data_loader.py:481: RuntimeWarning: invalid value encountered in true_divide\n",
      "  perc_team_tp=((df.tp.astype(int) / df.gp) / (df.tp.astype(int).sum() / df.gp.max())).round(3))\n"
     ]
    },
    {
     "name": "stdout",
     "output_type": "stream",
     "text": [
      "--- Getting Team Player Stats for williston-northampton-school 6038 ---\n"
     ]
    },
    {
     "name": "stderr",
     "output_type": "stream",
     "text": [
      "/Users/connorjung/analytics/ep_data_loader/ep_data_loader/ep_data_loader.py:479: RuntimeWarning: invalid value encountered in true_divide\n",
      "  perc_team_g=((df.g.astype(int) / df.gp) / (df.g.astype(int).sum() / df.gp.max())).round(3),\n",
      "/Users/connorjung/analytics/ep_data_loader/ep_data_loader/ep_data_loader.py:480: RuntimeWarning: invalid value encountered in true_divide\n",
      "  perc_team_a=((df.a.astype(int) / df.gp) / (df.a.astype(int).sum() / df.gp.max())).round(3),\n",
      "/Users/connorjung/analytics/ep_data_loader/ep_data_loader/ep_data_loader.py:481: RuntimeWarning: invalid value encountered in true_divide\n",
      "  perc_team_tp=((df.tp.astype(int) / df.gp) / (df.tp.astype(int).sum() / df.gp.max())).round(3))\n"
     ]
    },
    {
     "name": "stdout",
     "output_type": "stream",
     "text": [
      "--- Getting Team Player Stats for wooster-school 32688 ---\n",
      "\n",
      "2022-2023 wooster-school does not have have proper team stats \n",
      "\n",
      "Error: \n",
      " Cannot remove 1 levels from an index with 1 levels: at least one level must be left.\n",
      "--- Getting Team Player Stats for worcester-academy 6018 ---\n"
     ]
    },
    {
     "name": "stderr",
     "output_type": "stream",
     "text": [
      "/Users/connorjung/analytics/ep_data_loader/ep_data_loader/ep_data_loader.py:479: RuntimeWarning: invalid value encountered in true_divide\n",
      "  perc_team_g=((df.g.astype(int) / df.gp) / (df.g.astype(int).sum() / df.gp.max())).round(3),\n",
      "/Users/connorjung/analytics/ep_data_loader/ep_data_loader/ep_data_loader.py:480: RuntimeWarning: invalid value encountered in true_divide\n",
      "  perc_team_a=((df.a.astype(int) / df.gp) / (df.a.astype(int).sum() / df.gp.max())).round(3),\n",
      "/Users/connorjung/analytics/ep_data_loader/ep_data_loader/ep_data_loader.py:481: RuntimeWarning: invalid value encountered in true_divide\n",
      "  perc_team_tp=((df.tp.astype(int) / df.gp) / (df.tp.astype(int).sum() / df.gp.max())).round(3))\n"
     ]
    },
    {
     "name": "stdout",
     "output_type": "stream",
     "text": [
      "--- Getting Team Player Stats for wyoming-seminary-prep 5717 ---\n",
      "\n",
      "--- Getting League Team Stats for USDP 2022-2023 --- \n",
      "\n",
      "11 columns passed, passed data had 0 columns\n",
      "\n",
      "--- Getting League Team Stats for USDP 2022-2023 --- \n",
      "\n",
      "--- Getting Team Player Stats for u.s.-national-u17-team 1881 ---\n",
      "--- Getting Team Player Stats for u.s.-national-u18-team 1864 ---\n",
      "\n",
      "--- Getting League Team Stats for ECHL 2022-2023 --- \n",
      "\n",
      "--- Getting Team Player Stats for adirondack-thunder 18535 ---\n",
      "--- Getting Team Player Stats for allen-americans 4558 ---\n",
      "--- Getting Team Player Stats for atlanta-gladiators 853 ---\n",
      "--- Getting Team Player Stats for cincinnati-cyclones 619 ---\n",
      "--- Getting Team Player Stats for florida-everblades 236 ---\n",
      "--- Getting Team Player Stats for fort-wayne-komets 613 ---\n",
      "--- Getting Team Player Stats for greenville-swamp-rabbits 7301 ---\n",
      "--- Getting Team Player Stats for idaho-steelheads 695 ---\n",
      "--- Getting Team Player Stats for indy-fuel 16336 ---\n",
      "--- Getting Team Player Stats for iowa-heartlanders 33490 ---\n",
      "--- Getting Team Player Stats for jacksonville-icemen 4141 ---\n",
      "--- Getting Team Player Stats for kalamazoo-wings 787 ---\n",
      "--- Getting Team Player Stats for kansas-city-mavericks 4800 ---\n",
      "--- Getting Team Player Stats for maine-mariners 25089 ---\n",
      "--- Getting Team Player Stats for newfoundland-growlers 25837 ---\n",
      "--- Getting Team Player Stats for norfolk-admirals 101 ---\n",
      "--- Getting Team Player Stats for orlando-solar-bears 11331 ---\n",
      "--- Getting Team Player Stats for rapid-city-rush 2707 ---\n",
      "--- Getting Team Player Stats for reading-royals 639 ---\n",
      "--- Getting Team Player Stats for savannah-ghost-pirates 34592 ---\n",
      "--- Getting Team Player Stats for south-carolina-stingrays 252 ---\n",
      "--- Getting Team Player Stats for toledo-walleye 4517 ---\n",
      "--- Getting Team Player Stats for trois-rivieres-lions 32592 ---\n",
      "--- Getting Team Player Stats for tulsa-oilers 721 ---\n",
      "--- Getting Team Player Stats for utah-grizzlies 105 ---\n",
      "--- Getting Team Player Stats for wheeling-nailers 256 ---\n",
      "--- Getting Team Player Stats for wichita-thunder 836 ---\n",
      "--- Getting Team Player Stats for worcester-railers 21731 ---\n",
      "\n",
      "--- Getting League Team Stats for Mestis 2022-2023 --- \n",
      "\n",
      "--- Getting Team Player Stats for fps 414 ---\n",
      "--- Getting Team Player Stats for hermes 415 ---\n",
      "--- Getting Team Player Stats for hokki 1086 ---\n",
      "--- Getting Team Player Stats for ipk 2426 ---\n",
      "--- Getting Team Player Stats for jokp 416 ---\n",
      "--- Getting Team Player Stats for koovee 682 ---\n",
      "--- Getting Team Player Stats for kettera 1093 ---\n",
      "--- Getting Team Player Stats for keupa-ht 5072 ---\n",
      "--- Getting Team Player Stats for kiekko-espoo 26157 ---\n",
      "--- Getting Team Player Stats for kiekko-vantaa 419 ---\n",
      "--- Getting Team Player Stats for peliitat 3083 ---\n",
      "--- Getting Team Player Stats for roki 1101 ---\n",
      "--- Getting Team Player Stats for tuto-hockey 421 ---\n",
      "--- Getting Team Player Stats for zemgale 1392 ---\n",
      "Runtime : 74.1 mins\n",
      "Re-run the following league seasons:  [{'league': 'CCHL2', 'seasons': []}, {'league': 'NHL', 'seasons': []}, {'league': 'NLA', 'seasons': []}, {'league': 'USHL', 'seasons': []}, {'league': 'BCHL', 'seasons': []}, {'league': 'SJHL', 'seasons': []}, {'league': 'AHL', 'seasons': []}, {'league': 'SuperElit', 'seasons': []}, {'league': 'WHL', 'seasons': []}, {'league': 'CCHL', 'seasons': []}, {'league': 'U20 SM-liiga', 'seasons': []}, {'league': 'OHL', 'seasons': []}, {'league': 'MHL', 'seasons': []}, {'league': 'SHL', 'seasons': []}, {'league': 'NCAA', 'seasons': []}, {'league': 'Liiga', 'seasons': []}, {'league': 'DEL', 'seasons': []}, {'league': 'Slovakia', 'seasons': []}, {'league': 'Allsvenskan', 'seasons': ['2022-2023']}, {'league': 'QMJHL', 'seasons': []}, {'league': 'AJHL', 'seasons': []}, {'league': 'OJHL', 'seasons': []}, {'league': 'KHL', 'seasons': []}, {'league': 'VHL', 'seasons': []}, {'league': 'Czech', 'seasons': []}, {'league': 'Czech2', 'seasons': []}, {'league': 'USHS-PREP', 'seasons': []}, {'league': 'USDP', 'seasons': []}, {'league': 'ECHL', 'seasons': []}, {'league': 'Mestis', 'seasons': []}]\n"
     ]
    }
   ],
   "source": [
    "ep.full_data_load(collect_player_info=False, output='postgres')"
   ]
  },
  {
   "cell_type": "code",
   "execution_count": 5,
   "metadata": {},
   "outputs": [
    {
     "data": {
      "text/plain": [
       "5.308395833333334"
      ]
     },
     "execution_count": 5,
     "metadata": {},
     "output_type": "execute_result"
    }
   ],
   "source": [
    "7644.09 / (60 * 24 )"
   ]
  },
  {
   "cell_type": "code",
   "execution_count": 3,
   "metadata": {},
   "outputs": [
    {
     "data": {
      "text/plain": [
       "1.1635972222222222"
      ]
     },
     "execution_count": 3,
     "metadata": {},
     "output_type": "execute_result"
    }
   ],
   "source": [
    "1675.58 / (60 * 24)"
   ]
  },
  {
   "cell_type": "markdown",
   "metadata": {},
   "source": [
    "### Manually write player info to db"
   ]
  },
  {
   "cell_type": "code",
   "execution_count": 3,
   "metadata": {},
   "outputs": [],
   "source": [
    "import pandas as pd\n",
    "\n",
    "pd.set_option('max_columns', 0)"
   ]
  },
  {
   "cell_type": "code",
   "execution_count": 4,
   "metadata": {},
   "outputs": [],
   "source": [
    "player_info = pd.read_csv('data/player_info.csv_2022-05-08')"
   ]
  },
  {
   "cell_type": "code",
   "execution_count": 8,
   "metadata": {},
   "outputs": [],
   "source": [
    "ep.output_to_db(player_info, 'player_info')"
   ]
  },
  {
   "cell_type": "markdown",
   "metadata": {},
   "source": [
    "### Migrating tables to dev to prod"
   ]
  },
  {
   "cell_type": "code",
   "execution_count": 17,
   "metadata": {},
   "outputs": [],
   "source": [
    "from sqlalchemy import create_engine\n",
    "import pandas as pd\n",
    "\n",
    "pd.set_option('max_column', 0)"
   ]
  },
  {
   "cell_type": "code",
   "execution_count": 45,
   "metadata": {},
   "outputs": [],
   "source": [
    "db_host=\"hockey-dev.cc4fytqucr1p.us-east-2.rds.amazonaws.com\"\n",
    "db_user=\"postgres\"\n",
    "db_pass=\"postgres\"\n",
    "db_name=\"prospects\"\n",
    "db_port=\"5432\"\n",
    "\n",
    "db_host_prod=\"hockey-prod.cc4fytqucr1p.us-east-2.rds.amazonaws.com\"\n",
    "db_user_prod=\"datsyuk\"\n",
    "db_pass_prod=\"?rm3?89FJ_QjgEGW\"\n",
    "db_name_prod=\"prospects\"\n",
    "db_port_prod=\"5432\""
   ]
  },
  {
   "cell_type": "code",
   "execution_count": 46,
   "metadata": {},
   "outputs": [],
   "source": [
    "### establish connection to dev and prod databsses with sqlalchemy\n",
    "db1 = create_engine(f'postgresql://{db_user}:{db_pass}@{db_host}:{db_port}/{db_name}')\n",
    "db2 = create_engine(f'postgresql://{db_user_prod}:{db_pass_prod}@{db_host_prod}:{db_port_prod}/{db_name_prod}')"
   ]
  },
  {
   "cell_type": "code",
   "execution_count": 11,
   "metadata": {},
   "outputs": [],
   "source": [
    "table_name = 'skater_stats'\n",
    "table = pd.read_sql(f'''select * from {table_name}''', con=db1)\n",
    "table['load_date'] = pd.to_datetime(table['load_date'])"
   ]
  },
  {
   "cell_type": "code",
   "execution_count": 39,
   "metadata": {},
   "outputs": [],
   "source": [
    "table.to_sql(table_name, db2, index=False)"
   ]
  },
  {
   "cell_type": "code",
   "execution_count": 43,
   "metadata": {},
   "outputs": [],
   "source": [
    "tables = [\n",
    "#     'skater_stats',\n",
    "    'team_stats', 'goalie_stats', 'player_info']"
   ]
  },
  {
   "cell_type": "code",
   "execution_count": 41,
   "metadata": {},
   "outputs": [],
   "source": [
    "def copy_data(table_name, db1, db2):\n",
    "    \n",
    "    print(f'Copying table: {table_name} from Dev')\n",
    "    table = pd.read_sql(f'''select * from {table_name}''', con=db1)\n",
    "    table['load_date'] = pd.to_datetime(table['load_date'])\n",
    "    table.to_sql(table_name, db2, index=False)\n",
    "    print(f'Successfully written: {table_name} to Prod')"
   ]
  },
  {
   "cell_type": "code",
   "execution_count": 47,
   "metadata": {},
   "outputs": [
    {
     "name": "stdout",
     "output_type": "stream",
     "text": [
      "Copying table: team_stats from Dev\n",
      "Successfully written: team_stats to Prod\n",
      "Copying table: goalie_stats from Dev\n",
      "Successfully written: goalie_stats to Prod\n",
      "Copying table: player_info from Dev\n",
      "Successfully written: player_info to Prod\n",
      "Copying table: traffic from Dev\n"
     ]
    },
    {
     "ename": "KeyError",
     "evalue": "'load_date'",
     "output_type": "error",
     "traceback": [
      "\u001b[0;31m---------------------------------------------------------------------------\u001b[0m",
      "\u001b[0;31mKeyError\u001b[0m                                  Traceback (most recent call last)",
      "\u001b[0;32m~/.pyenv/versions/3.7.6/envs/apple/lib/python3.7/site-packages/pandas/core/indexes/base.py\u001b[0m in \u001b[0;36mget_loc\u001b[0;34m(self, key, method, tolerance)\u001b[0m\n\u001b[1;32m   2888\u001b[0m             \u001b[0;32mtry\u001b[0m\u001b[0;34m:\u001b[0m\u001b[0;34m\u001b[0m\u001b[0;34m\u001b[0m\u001b[0m\n\u001b[0;32m-> 2889\u001b[0;31m                 \u001b[0;32mreturn\u001b[0m \u001b[0mself\u001b[0m\u001b[0;34m.\u001b[0m\u001b[0m_engine\u001b[0m\u001b[0;34m.\u001b[0m\u001b[0mget_loc\u001b[0m\u001b[0;34m(\u001b[0m\u001b[0mcasted_key\u001b[0m\u001b[0;34m)\u001b[0m\u001b[0;34m\u001b[0m\u001b[0;34m\u001b[0m\u001b[0m\n\u001b[0m\u001b[1;32m   2890\u001b[0m             \u001b[0;32mexcept\u001b[0m \u001b[0mKeyError\u001b[0m \u001b[0;32mas\u001b[0m \u001b[0merr\u001b[0m\u001b[0;34m:\u001b[0m\u001b[0;34m\u001b[0m\u001b[0;34m\u001b[0m\u001b[0m\n",
      "\u001b[0;32mpandas/_libs/index.pyx\u001b[0m in \u001b[0;36mpandas._libs.index.IndexEngine.get_loc\u001b[0;34m()\u001b[0m\n",
      "\u001b[0;32mpandas/_libs/index.pyx\u001b[0m in \u001b[0;36mpandas._libs.index.IndexEngine.get_loc\u001b[0;34m()\u001b[0m\n",
      "\u001b[0;32mpandas/_libs/hashtable_class_helper.pxi\u001b[0m in \u001b[0;36mpandas._libs.hashtable.PyObjectHashTable.get_item\u001b[0;34m()\u001b[0m\n",
      "\u001b[0;32mpandas/_libs/hashtable_class_helper.pxi\u001b[0m in \u001b[0;36mpandas._libs.hashtable.PyObjectHashTable.get_item\u001b[0;34m()\u001b[0m\n",
      "\u001b[0;31mKeyError\u001b[0m: 'load_date'",
      "\nThe above exception was the direct cause of the following exception:\n",
      "\u001b[0;31mKeyError\u001b[0m                                  Traceback (most recent call last)",
      "\u001b[0;32m<ipython-input-47-7e8b1fd8354a>\u001b[0m in \u001b[0;36m<module>\u001b[0;34m\u001b[0m\n\u001b[1;32m      1\u001b[0m \u001b[0;32mfor\u001b[0m \u001b[0mtable_name\u001b[0m \u001b[0;32min\u001b[0m \u001b[0mtables\u001b[0m\u001b[0;34m:\u001b[0m\u001b[0;34m\u001b[0m\u001b[0;34m\u001b[0m\u001b[0m\n\u001b[0;32m----> 2\u001b[0;31m     \u001b[0mcopy_data\u001b[0m\u001b[0;34m(\u001b[0m\u001b[0mtable_name\u001b[0m\u001b[0;34m,\u001b[0m \u001b[0mdb1\u001b[0m\u001b[0;34m,\u001b[0m \u001b[0mdb2\u001b[0m\u001b[0;34m)\u001b[0m\u001b[0;34m\u001b[0m\u001b[0;34m\u001b[0m\u001b[0m\n\u001b[0m",
      "\u001b[0;32m<ipython-input-41-c026e88db065>\u001b[0m in \u001b[0;36mcopy_data\u001b[0;34m(table_name, db1, db2)\u001b[0m\n\u001b[1;32m      3\u001b[0m     \u001b[0mprint\u001b[0m\u001b[0;34m(\u001b[0m\u001b[0;34mf'Copying table: {table_name} from Dev'\u001b[0m\u001b[0;34m)\u001b[0m\u001b[0;34m\u001b[0m\u001b[0;34m\u001b[0m\u001b[0m\n\u001b[1;32m      4\u001b[0m     \u001b[0mtable\u001b[0m \u001b[0;34m=\u001b[0m \u001b[0mpd\u001b[0m\u001b[0;34m.\u001b[0m\u001b[0mread_sql\u001b[0m\u001b[0;34m(\u001b[0m\u001b[0;34mf'''select * from {table_name}'''\u001b[0m\u001b[0;34m,\u001b[0m \u001b[0mcon\u001b[0m\u001b[0;34m=\u001b[0m\u001b[0mdb1\u001b[0m\u001b[0;34m)\u001b[0m\u001b[0;34m\u001b[0m\u001b[0;34m\u001b[0m\u001b[0m\n\u001b[0;32m----> 5\u001b[0;31m     \u001b[0mtable\u001b[0m\u001b[0;34m[\u001b[0m\u001b[0;34m'load_date'\u001b[0m\u001b[0;34m]\u001b[0m \u001b[0;34m=\u001b[0m \u001b[0mpd\u001b[0m\u001b[0;34m.\u001b[0m\u001b[0mto_datetime\u001b[0m\u001b[0;34m(\u001b[0m\u001b[0mtable\u001b[0m\u001b[0;34m[\u001b[0m\u001b[0;34m'load_date'\u001b[0m\u001b[0;34m]\u001b[0m\u001b[0;34m)\u001b[0m\u001b[0;34m\u001b[0m\u001b[0;34m\u001b[0m\u001b[0m\n\u001b[0m\u001b[1;32m      6\u001b[0m     \u001b[0mtable\u001b[0m\u001b[0;34m.\u001b[0m\u001b[0mto_sql\u001b[0m\u001b[0;34m(\u001b[0m\u001b[0mtable_name\u001b[0m\u001b[0;34m,\u001b[0m \u001b[0mdb2\u001b[0m\u001b[0;34m,\u001b[0m \u001b[0mindex\u001b[0m\u001b[0;34m=\u001b[0m\u001b[0;32mFalse\u001b[0m\u001b[0;34m)\u001b[0m\u001b[0;34m\u001b[0m\u001b[0;34m\u001b[0m\u001b[0m\n\u001b[1;32m      7\u001b[0m     \u001b[0mprint\u001b[0m\u001b[0;34m(\u001b[0m\u001b[0;34mf'Successfully written: {table_name} to Prod'\u001b[0m\u001b[0;34m)\u001b[0m\u001b[0;34m\u001b[0m\u001b[0;34m\u001b[0m\u001b[0m\n",
      "\u001b[0;32m~/.pyenv/versions/3.7.6/envs/apple/lib/python3.7/site-packages/pandas/core/frame.py\u001b[0m in \u001b[0;36m__getitem__\u001b[0;34m(self, key)\u001b[0m\n\u001b[1;32m   2900\u001b[0m             \u001b[0;32mif\u001b[0m \u001b[0mself\u001b[0m\u001b[0;34m.\u001b[0m\u001b[0mcolumns\u001b[0m\u001b[0;34m.\u001b[0m\u001b[0mnlevels\u001b[0m \u001b[0;34m>\u001b[0m \u001b[0;36m1\u001b[0m\u001b[0;34m:\u001b[0m\u001b[0;34m\u001b[0m\u001b[0;34m\u001b[0m\u001b[0m\n\u001b[1;32m   2901\u001b[0m                 \u001b[0;32mreturn\u001b[0m \u001b[0mself\u001b[0m\u001b[0;34m.\u001b[0m\u001b[0m_getitem_multilevel\u001b[0m\u001b[0;34m(\u001b[0m\u001b[0mkey\u001b[0m\u001b[0;34m)\u001b[0m\u001b[0;34m\u001b[0m\u001b[0;34m\u001b[0m\u001b[0m\n\u001b[0;32m-> 2902\u001b[0;31m             \u001b[0mindexer\u001b[0m \u001b[0;34m=\u001b[0m \u001b[0mself\u001b[0m\u001b[0;34m.\u001b[0m\u001b[0mcolumns\u001b[0m\u001b[0;34m.\u001b[0m\u001b[0mget_loc\u001b[0m\u001b[0;34m(\u001b[0m\u001b[0mkey\u001b[0m\u001b[0;34m)\u001b[0m\u001b[0;34m\u001b[0m\u001b[0;34m\u001b[0m\u001b[0m\n\u001b[0m\u001b[1;32m   2903\u001b[0m             \u001b[0;32mif\u001b[0m \u001b[0mis_integer\u001b[0m\u001b[0;34m(\u001b[0m\u001b[0mindexer\u001b[0m\u001b[0;34m)\u001b[0m\u001b[0;34m:\u001b[0m\u001b[0;34m\u001b[0m\u001b[0;34m\u001b[0m\u001b[0m\n\u001b[1;32m   2904\u001b[0m                 \u001b[0mindexer\u001b[0m \u001b[0;34m=\u001b[0m \u001b[0;34m[\u001b[0m\u001b[0mindexer\u001b[0m\u001b[0;34m]\u001b[0m\u001b[0;34m\u001b[0m\u001b[0;34m\u001b[0m\u001b[0m\n",
      "\u001b[0;32m~/.pyenv/versions/3.7.6/envs/apple/lib/python3.7/site-packages/pandas/core/indexes/base.py\u001b[0m in \u001b[0;36mget_loc\u001b[0;34m(self, key, method, tolerance)\u001b[0m\n\u001b[1;32m   2889\u001b[0m                 \u001b[0;32mreturn\u001b[0m \u001b[0mself\u001b[0m\u001b[0;34m.\u001b[0m\u001b[0m_engine\u001b[0m\u001b[0;34m.\u001b[0m\u001b[0mget_loc\u001b[0m\u001b[0;34m(\u001b[0m\u001b[0mcasted_key\u001b[0m\u001b[0;34m)\u001b[0m\u001b[0;34m\u001b[0m\u001b[0;34m\u001b[0m\u001b[0m\n\u001b[1;32m   2890\u001b[0m             \u001b[0;32mexcept\u001b[0m \u001b[0mKeyError\u001b[0m \u001b[0;32mas\u001b[0m \u001b[0merr\u001b[0m\u001b[0;34m:\u001b[0m\u001b[0;34m\u001b[0m\u001b[0;34m\u001b[0m\u001b[0m\n\u001b[0;32m-> 2891\u001b[0;31m                 \u001b[0;32mraise\u001b[0m \u001b[0mKeyError\u001b[0m\u001b[0;34m(\u001b[0m\u001b[0mkey\u001b[0m\u001b[0;34m)\u001b[0m \u001b[0;32mfrom\u001b[0m \u001b[0merr\u001b[0m\u001b[0;34m\u001b[0m\u001b[0;34m\u001b[0m\u001b[0m\n\u001b[0m\u001b[1;32m   2892\u001b[0m \u001b[0;34m\u001b[0m\u001b[0m\n\u001b[1;32m   2893\u001b[0m         \u001b[0;32mif\u001b[0m \u001b[0mtolerance\u001b[0m \u001b[0;32mis\u001b[0m \u001b[0;32mnot\u001b[0m \u001b[0;32mNone\u001b[0m\u001b[0;34m:\u001b[0m\u001b[0;34m\u001b[0m\u001b[0;34m\u001b[0m\u001b[0m\n",
      "\u001b[0;31mKeyError\u001b[0m: 'load_date'"
     ]
    }
   ],
   "source": [
    "for table_name in tables:\n",
    "    copy_data(table_name, db1, db2)"
   ]
  },
  {
   "cell_type": "code",
   "execution_count": null,
   "metadata": {},
   "outputs": [],
   "source": []
  }
 ],
 "metadata": {
  "kernelspec": {
   "display_name": "Python 3",
   "language": "python",
   "name": "python3"
  },
  "language_info": {
   "codemirror_mode": {
    "name": "ipython",
    "version": 3
   },
   "file_extension": ".py",
   "mimetype": "text/x-python",
   "name": "python",
   "nbconvert_exporter": "python",
   "pygments_lexer": "ipython3",
   "version": "3.7.6"
  }
 },
 "nbformat": 4,
 "nbformat_minor": 4
}
